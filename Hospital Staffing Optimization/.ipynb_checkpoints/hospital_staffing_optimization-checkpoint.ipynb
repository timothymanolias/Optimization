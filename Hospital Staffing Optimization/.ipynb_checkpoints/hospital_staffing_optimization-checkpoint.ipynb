{
 "cells": [
  {
   "cell_type": "markdown",
   "id": "95ee8916-e578-4b91-ae2b-73a5ad8216c1",
   "metadata": {},
   "source": [
    "# Hospital Staffing Optimization (Timothy Manolias)\n",
    "\n",
    "### The following program determines the optimal amount of nurses to staff in a hospital on a given day, so as to minimize the daily expected cost."
   ]
  },
  {
   "cell_type": "code",
   "execution_count": 1,
   "id": "6631f99c-3812-44a6-9876-c422fcb83dd2",
   "metadata": {
    "jupyter": {
     "source_hidden": true
    },
    "tags": []
   },
   "outputs": [
    {
     "data": {
      "text/html": [
       "<img src=\"Images/Question.png\" width=\"700\"/>"
      ],
      "text/plain": [
       "<IPython.core.display.Image object>"
      ]
     },
     "execution_count": 1,
     "metadata": {},
     "output_type": "execute_result"
    }
   ],
   "source": [
    "from IPython.display import Image\n",
    "from IPython.core.display import HTML\n",
    "\n",
    "Image(url='Images/Question.png', width=700)"
   ]
  },
  {
   "cell_type": "code",
   "execution_count": 2,
   "id": "87bda90f-b3c4-46a4-9229-98d3f3d6dfc5",
   "metadata": {},
   "outputs": [
    {
     "data": {
      "text/html": [
       "<div>\n",
       "<style scoped>\n",
       "    .dataframe tbody tr th:only-of-type {\n",
       "        vertical-align: middle;\n",
       "    }\n",
       "\n",
       "    .dataframe tbody tr th {\n",
       "        vertical-align: top;\n",
       "    }\n",
       "\n",
       "    .dataframe thead th {\n",
       "        text-align: right;\n",
       "    }\n",
       "</style>\n",
       "<table border=\"1\" class=\"dataframe\">\n",
       "  <thead>\n",
       "    <tr style=\"text-align: right;\">\n",
       "      <th></th>\n",
       "      <th>Day</th>\n",
       "      <th>DailyED</th>\n",
       "      <th>IsWeekend</th>\n",
       "      <th>IsHoliday</th>\n",
       "      <th>DailyEDLag1</th>\n",
       "      <th>DailyEDLag2</th>\n",
       "      <th>TotalPriorSurgeries</th>\n",
       "    </tr>\n",
       "  </thead>\n",
       "  <tbody>\n",
       "    <tr>\n",
       "      <th>0</th>\n",
       "      <td>1</td>\n",
       "      <td>20</td>\n",
       "      <td>1</td>\n",
       "      <td>0</td>\n",
       "      <td>3</td>\n",
       "      <td>5</td>\n",
       "      <td>23.714286</td>\n",
       "    </tr>\n",
       "    <tr>\n",
       "      <th>1</th>\n",
       "      <td>2</td>\n",
       "      <td>18</td>\n",
       "      <td>0</td>\n",
       "      <td>0</td>\n",
       "      <td>20</td>\n",
       "      <td>3</td>\n",
       "      <td>23.714286</td>\n",
       "    </tr>\n",
       "    <tr>\n",
       "      <th>2</th>\n",
       "      <td>3</td>\n",
       "      <td>14</td>\n",
       "      <td>0</td>\n",
       "      <td>0</td>\n",
       "      <td>18</td>\n",
       "      <td>20</td>\n",
       "      <td>23.714286</td>\n",
       "    </tr>\n",
       "    <tr>\n",
       "      <th>3</th>\n",
       "      <td>4</td>\n",
       "      <td>21</td>\n",
       "      <td>0</td>\n",
       "      <td>0</td>\n",
       "      <td>14</td>\n",
       "      <td>18</td>\n",
       "      <td>23.714286</td>\n",
       "    </tr>\n",
       "    <tr>\n",
       "      <th>4</th>\n",
       "      <td>5</td>\n",
       "      <td>12</td>\n",
       "      <td>0</td>\n",
       "      <td>0</td>\n",
       "      <td>21</td>\n",
       "      <td>14</td>\n",
       "      <td>23.714286</td>\n",
       "    </tr>\n",
       "  </tbody>\n",
       "</table>\n",
       "</div>"
      ],
      "text/plain": [
       "   Day  DailyED  IsWeekend  IsHoliday  DailyEDLag1  DailyEDLag2  \\\n",
       "0    1       20          1          0            3            5   \n",
       "1    2       18          0          0           20            3   \n",
       "2    3       14          0          0           18           20   \n",
       "3    4       21          0          0           14           18   \n",
       "4    5       12          0          0           21           14   \n",
       "\n",
       "   TotalPriorSurgeries  \n",
       "0            23.714286  \n",
       "1            23.714286  \n",
       "2            23.714286  \n",
       "3            23.714286  \n",
       "4            23.714286  "
      ]
     },
     "execution_count": 2,
     "metadata": {},
     "output_type": "execute_result"
    }
   ],
   "source": [
    "'''Imports Data & Libraries.'''\n",
    "\n",
    "from gurobipy import *\n",
    "import pandas as pd\n",
    "import numpy as np\n",
    "import matplotlib.pyplot as plt\n",
    "import sklearn.model_selection as ms\n",
    "import sklearn.tree as tree\n",
    "import graphviz\n",
    "\n",
    "nurse = pd.read_csv('Data/nurse.csv')\n",
    "train = nurse.iloc[:200]\n",
    "test = nurse.iloc[200:]\n",
    "\n",
    "nurse.head()"
   ]
  },
  {
   "cell_type": "markdown",
   "id": "a472452f-1eae-47a2-a1d9-1e5f5af2939a",
   "metadata": {},
   "source": [
    "### Part 1: Formulating a Basic Newsvendor Model"
   ]
  },
  {
   "cell_type": "markdown",
   "id": "1038086a-9525-49f6-be52-4dda9c3e4d19",
   "metadata": {},
   "source": [
    "$$ \\min_Q\\mathbb{E}[c_u \\max(D-Q, 0) + c_o\\max(Q-D, 0) + c_o \\min (Q, D)]$$\n",
    "\n",
    "- Order Quantity **Q** = Regular nurses working for a day.\n",
    "- Demand **D** = # of emergency department (ED) cases for a day.\n",
    "- Overage Cost **Co** = Cost of regular nurse = 2,160 \n",
    "- Underage Cost **Cu** = Cost of agency nurse = 5,400"
   ]
  },
  {
   "cell_type": "markdown",
   "id": "5a8f1b64-eed3-4036-9004-495cf8eb209f",
   "metadata": {},
   "source": [
    "### Part 2: Solving the Basic Newsvendor Model\n",
    "\n",
    "For this part of the problem, we will use the data to determine a context-free nurse staffing level, i.e., a staffing level that does not incorporate the contextual information"
   ]
  },
  {
   "cell_type": "markdown",
   "id": "2a1ffb35-d97b-4f5b-a501-94809b9b2f9f",
   "metadata": {},
   "source": [
    "**Based on the overage and underage costs from Part 1, the optimal staffing level correspond to the following quantile of the empirical distribution of DailyED:**"
   ]
  },
  {
   "cell_type": "code",
   "execution_count": 3,
   "id": "0771d0b1-416f-4957-b78e-f5a835956919",
   "metadata": {},
   "outputs": [
    {
     "data": {
      "image/png": "[encoded data removed]",
      "text/plain": [
       "<Figure size 432x288 with 1 Axes>"
      ]
     },
     "metadata": {
      "needs_background": "light"
     },
     "output_type": "display_data"
    }
   ],
   "source": [
    "'''Displays Distribution of DailyED.'''\n",
    "\n",
    "daily_ed_train = train['DailyED'].values\n",
    "daily_ed_test = test['DailyED'].values\n",
    "\n",
    "plt.hist(daily_ed_train, bins=30)\n",
    "plt.show()"
   ]
  },
  {
   "cell_type": "markdown",
   "id": "68cd7b98-c0f2-4ea0-9ca8-46c132c9d8b2",
   "metadata": {},
   "source": [
    "$$ Q^* = F^{-1} \\left( \\frac{c_u}{c_u + c_o} \\right)$$\n",
    "\n",
    "$$ =\n",
    "F^{-1} \\left( \\frac{5400}{5400 + 2160} \\right)$$\n",
    "\n",
    "$$ = F^{-1} (0.7143)$$\n",
    "\n",
    "Quantile = 0.7143"
   ]
  },
  {
   "cell_type": "markdown",
   "id": "3e2cc06e-9046-4116-964d-7efe3e6e58fb",
   "metadata": {},
   "source": [
    "**Based on the empirical distribution of DailyED in the training set, the optimal staffing level is:**"
   ]
  },
  {
   "cell_type": "code",
   "execution_count": 4,
   "id": "a6483064-f3a2-4c1a-a030-090003c9dcf7",
   "metadata": {
    "tags": []
   },
   "outputs": [
    {
     "name": "stdout",
     "output_type": "stream",
     "text": [
      "17 nurses\n"
     ]
    }
   ],
   "source": [
    "print(f\"{train[['DailyED']].quantile(0.7143)[0]:.0f} nurses\")"
   ]
  },
  {
   "cell_type": "code",
   "execution_count": 5,
   "id": "d72a48f7-9dd0-4ff5-8e3e-49fe688670b3",
   "metadata": {},
   "outputs": [
    {
     "data": {
      "image/png": "[encoded data removed]",
      "text/plain": [
       "<Figure size 432x288 with 1 Axes>"
      ]
     },
     "metadata": {
      "needs_background": "light"
     },
     "output_type": "display_data"
    }
   ],
   "source": [
    "'''Calculates Optimal Staffing Level.'''\n",
    "\n",
    "c_o = 2160\n",
    "c_u = 5400\n",
    "Q_range = range(train.DailyED.max() * 2)\n",
    "\n",
    "def profit_loss(D):\n",
    "    return c_u * max(D-Q, 0) + c_o * max(Q-D, 0) + c_o * min(Q, D)\n",
    "\n",
    "expected_loss = np.zeros(train.DailyED.max() * 2)\n",
    "for Q in Q_range:\n",
    "    temp = np.array( list(map(profit_loss, daily_ed_train)) )\n",
    "    expected_loss[Q] = temp.mean()\n",
    "\n",
    "# Plots expected loss as a function of Q\n",
    "plt.plot(Q_range, expected_loss, 'r-', lw=5, alpha=0.6, label='Expected Loss');"
   ]
  },
  {
   "cell_type": "code",
   "execution_count": 6,
   "id": "ae451970-f063-4d8a-8dfc-e020947cc74d",
   "metadata": {},
   "outputs": [
    {
     "data": {
      "text/plain": [
       "16"
      ]
     },
     "execution_count": 6,
     "metadata": {},
     "output_type": "execute_result"
    }
   ],
   "source": [
    "optimal_Q = expected_loss.argmin()\n",
    "optimal_Q"
   ]
  },
  {
   "cell_type": "markdown",
   "id": "23b6a531-59e8-44d3-b747-bd80b2078b3c",
   "metadata": {},
   "source": [
    "**Average Cost Over 200 Train Days With Q=17:**"
   ]
  },
  {
   "cell_type": "code",
   "execution_count": 7,
   "id": "c7360558-08d8-4757-b605-b0de6f366bfd",
   "metadata": {},
   "outputs": [
    {
     "name": "stdout",
     "output_type": "stream",
     "text": [
      "$41,256.00\n"
     ]
    }
   ],
   "source": [
    "Q = 16\n",
    "print(f'${np.mean([profit_loss(D) for D in daily_ed_train]):,.2f}')"
   ]
  },
  {
   "cell_type": "markdown",
   "id": "0980b292-6ade-4a29-859a-ca92f3a7faa7",
   "metadata": {},
   "source": [
    "**Average Cost Over 100 Test Days With Q=17:**"
   ]
  },
  {
   "cell_type": "code",
   "execution_count": 8,
   "id": "9aa0bd8f-1dab-4381-b9b7-2e6469e3afe1",
   "metadata": {},
   "outputs": [
    {
     "name": "stdout",
     "output_type": "stream",
     "text": [
      "$39,528.00\n"
     ]
    }
   ],
   "source": [
    "print(f'${np.mean([profit_loss(D) for D in daily_ed_test]):,.2f}')"
   ]
  },
  {
   "cell_type": "markdown",
   "id": "0f28476c-ee95-4987-a4db-1bb51efe9c71",
   "metadata": {
    "tags": []
   },
   "source": [
    "### Part 3: Solving the Contextual Newsvendor Model"
   ]
  },
  {
   "cell_type": "code",
   "execution_count": 9,
   "id": "75f43cf9-c6f6-467e-b213-225e992ec7bb",
   "metadata": {},
   "outputs": [
    {
     "data": {
      "image/svg+xml": [
       "<?xml version=\"1.0\" encoding=\"UTF-8\" standalone=\"no\"?>\n",
       "<!DOCTYPE svg PUBLIC \"-//W3C//DTD SVG 1.1//EN\"\n",
       " \"http://www.w3.org/Graphics/SVG/1.1/DTD/svg11.dtd\">\n",
       "<!-- Generated by graphviz version 2.49.3 (20211023.0002)\n",
       " -->\n",
       "<!-- Title: Tree Pages: 1 -->\n",
       "<svg width=\"521pt\" height=\"224pt\"\n",
       " viewBox=\"0.00 0.00 520.50 224.00\" xmlns=\"http://www.w3.org/2000/svg\" xmlns:xlink=\"http://www.w3.org/1999/xlink\">\n",
       "<g id=\"graph0\" class=\"graph\" transform=\"scale(1 1) rotate(0) translate(4 220)\">\n",
       "<title>Tree</title>\n",
       "<polygon fill=\"white\" stroke=\"transparent\" points=\"-4,4 -4,-220 516.5,-220 516.5,4 -4,4\"/>\n",
       "<!-- 0 -->\n",
       "<g id=\"node1\" class=\"node\">\n",
       "<title>0</title>\n",
       "<path fill=\"none\" stroke=\"black\" d=\"M343,-216C343,-216 173,-216 173,-216 167,-216 161,-210 161,-204 161,-204 161,-175 161,-175 161,-169 167,-163 173,-163 173,-163 343,-163 343,-163 349,-163 355,-169 355,-175 355,-175 355,-204 355,-204 355,-210 349,-216 343,-216\"/>\n",
       "<text text-anchor=\"start\" x=\"169\" y=\"-200.8\" font-family=\"Helvetica,sans-Serif\" font-size=\"14.00\">TotalPriorSurgeries ≤ 21.571</text>\n",
       "<text text-anchor=\"start\" x=\"212\" y=\"-185.8\" font-family=\"Helvetica,sans-Serif\" font-size=\"14.00\">samples = 200</text>\n",
       "<text text-anchor=\"start\" x=\"215.5\" y=\"-170.8\" font-family=\"Helvetica,sans-Serif\" font-size=\"14.00\">value = 14.85</text>\n",
       "</g>\n",
       "<!-- 1 -->\n",
       "<g id=\"node2\" class=\"node\">\n",
       "<title>1</title>\n",
       "<path fill=\"none\" stroke=\"black\" d=\"M250,-127C250,-127 80,-127 80,-127 74,-127 68,-121 68,-115 68,-115 68,-86 68,-86 68,-80 74,-74 80,-74 80,-74 250,-74 250,-74 256,-74 262,-80 262,-86 262,-86 262,-115 262,-115 262,-121 256,-127 250,-127\"/>\n",
       "<text text-anchor=\"start\" x=\"76\" y=\"-111.8\" font-family=\"Helvetica,sans-Serif\" font-size=\"14.00\">TotalPriorSurgeries ≤ 16.429</text>\n",
       "<text text-anchor=\"start\" x=\"119\" y=\"-96.8\" font-family=\"Helvetica,sans-Serif\" font-size=\"14.00\">samples = 105</text>\n",
       "<text text-anchor=\"start\" x=\"118.5\" y=\"-81.8\" font-family=\"Helvetica,sans-Serif\" font-size=\"14.00\">value = 13.476</text>\n",
       "</g>\n",
       "<!-- 0&#45;&gt;1 -->\n",
       "<g id=\"edge1\" class=\"edge\">\n",
       "<title>0&#45;&gt;1</title>\n",
       "<path fill=\"none\" stroke=\"black\" d=\"M230.6,-162.87C221.04,-153.92 210.17,-143.75 200.07,-134.3\"/>\n",
       "<polygon fill=\"black\" stroke=\"black\" points=\"202.22,-131.53 192.53,-127.25 197.44,-136.64 202.22,-131.53\"/>\n",
       "<text text-anchor=\"middle\" x=\"193.36\" y=\"-148.54\" font-family=\"Helvetica,sans-Serif\" font-size=\"14.00\">True</text>\n",
       "</g>\n",
       "<!-- 4 -->\n",
       "<g id=\"node5\" class=\"node\">\n",
       "<title>4</title>\n",
       "<path fill=\"none\" stroke=\"black\" d=\"M409.5,-127C409.5,-127 292.5,-127 292.5,-127 286.5,-127 280.5,-121 280.5,-115 280.5,-115 280.5,-86 280.5,-86 280.5,-80 286.5,-74 292.5,-74 292.5,-74 409.5,-74 409.5,-74 415.5,-74 421.5,-80 421.5,-86 421.5,-86 421.5,-115 421.5,-115 421.5,-121 415.5,-127 409.5,-127\"/>\n",
       "<text text-anchor=\"start\" x=\"288.5\" y=\"-111.8\" font-family=\"Helvetica,sans-Serif\" font-size=\"14.00\">DailyEDLag2 ≤ 10.5</text>\n",
       "<text text-anchor=\"start\" x=\"309\" y=\"-96.8\" font-family=\"Helvetica,sans-Serif\" font-size=\"14.00\">samples = 95</text>\n",
       "<text text-anchor=\"start\" x=\"304.5\" y=\"-81.8\" font-family=\"Helvetica,sans-Serif\" font-size=\"14.00\">value = 16.368</text>\n",
       "</g>\n",
       "<!-- 0&#45;&gt;4 -->\n",
       "<g id=\"edge4\" class=\"edge\">\n",
       "<title>0&#45;&gt;4</title>\n",
       "<path fill=\"none\" stroke=\"black\" d=\"M285.4,-162.87C294.96,-153.92 305.83,-143.75 315.93,-134.3\"/>\n",
       "<polygon fill=\"black\" stroke=\"black\" points=\"318.56,-136.64 323.47,-127.25 313.78,-131.53 318.56,-136.64\"/>\n",
       "<text text-anchor=\"middle\" x=\"322.64\" y=\"-148.54\" font-family=\"Helvetica,sans-Serif\" font-size=\"14.00\">False</text>\n",
       "</g>\n",
       "<!-- 2 -->\n",
       "<g id=\"node3\" class=\"node\">\n",
       "<title>2</title>\n",
       "<path fill=\"none\" stroke=\"black\" d=\"M96,-38C96,-38 12,-38 12,-38 6,-38 0,-32 0,-26 0,-26 0,-12 0,-12 0,-6 6,0 12,0 12,0 96,0 96,0 102,0 108,-6 108,-12 108,-12 108,-26 108,-26 108,-32 102,-38 96,-38\"/>\n",
       "<text text-anchor=\"start\" x=\"12\" y=\"-22.8\" font-family=\"Helvetica,sans-Serif\" font-size=\"14.00\">samples = 21</text>\n",
       "<text text-anchor=\"start\" x=\"8\" y=\"-7.8\" font-family=\"Helvetica,sans-Serif\" font-size=\"14.00\">value = 11.571</text>\n",
       "</g>\n",
       "<!-- 1&#45;&gt;2 -->\n",
       "<g id=\"edge2\" class=\"edge\">\n",
       "<title>1&#45;&gt;2</title>\n",
       "<path fill=\"none\" stroke=\"black\" d=\"M129.27,-73.91C115.96,-64.38 100.91,-53.59 87.78,-44.19\"/>\n",
       "<polygon fill=\"black\" stroke=\"black\" points=\"89.63,-41.22 79.47,-38.24 85.56,-46.91 89.63,-41.22\"/>\n",
       "</g>\n",
       "<!-- 3 -->\n",
       "<g id=\"node4\" class=\"node\">\n",
       "<title>3</title>\n",
       "<path fill=\"none\" stroke=\"black\" d=\"M223.5,-38C223.5,-38 138.5,-38 138.5,-38 132.5,-38 126.5,-32 126.5,-26 126.5,-26 126.5,-12 126.5,-12 126.5,-6 132.5,0 138.5,0 138.5,0 223.5,0 223.5,0 229.5,0 235.5,-6 235.5,-12 235.5,-12 235.5,-26 235.5,-26 235.5,-32 229.5,-38 223.5,-38\"/>\n",
       "<text text-anchor=\"start\" x=\"139\" y=\"-22.8\" font-family=\"Helvetica,sans-Serif\" font-size=\"14.00\">samples = 84</text>\n",
       "<text text-anchor=\"start\" x=\"134.5\" y=\"-7.8\" font-family=\"Helvetica,sans-Serif\" font-size=\"14.00\">value = 13.952</text>\n",
       "</g>\n",
       "<!-- 1&#45;&gt;3 -->\n",
       "<g id=\"edge3\" class=\"edge\">\n",
       "<title>1&#45;&gt;3</title>\n",
       "<path fill=\"none\" stroke=\"black\" d=\"M170.15,-73.91C171.79,-65.74 173.62,-56.65 175.3,-48.3\"/>\n",
       "<polygon fill=\"black\" stroke=\"black\" points=\"178.79,-48.73 177.33,-38.24 171.92,-47.35 178.79,-48.73\"/>\n",
       "</g>\n",
       "<!-- 5 -->\n",
       "<g id=\"node6\" class=\"node\">\n",
       "<title>5</title>\n",
       "<path fill=\"none\" stroke=\"black\" d=\"M373.5,-38C373.5,-38 296.5,-38 296.5,-38 290.5,-38 284.5,-32 284.5,-26 284.5,-26 284.5,-12 284.5,-12 284.5,-6 290.5,0 296.5,0 296.5,0 373.5,0 373.5,0 379.5,0 385.5,-6 385.5,-12 385.5,-12 385.5,-26 385.5,-26 385.5,-32 379.5,-38 373.5,-38\"/>\n",
       "<text text-anchor=\"start\" x=\"293\" y=\"-22.8\" font-family=\"Helvetica,sans-Serif\" font-size=\"14.00\">samples = 12</text>\n",
       "<text text-anchor=\"start\" x=\"292.5\" y=\"-7.8\" font-family=\"Helvetica,sans-Serif\" font-size=\"14.00\">value = 18.25</text>\n",
       "</g>\n",
       "<!-- 4&#45;&gt;5 -->\n",
       "<g id=\"edge5\" class=\"edge\">\n",
       "<title>4&#45;&gt;5</title>\n",
       "<path fill=\"none\" stroke=\"black\" d=\"M345.85,-73.91C344.21,-65.74 342.38,-56.65 340.7,-48.3\"/>\n",
       "<polygon fill=\"black\" stroke=\"black\" points=\"344.08,-47.35 338.67,-38.24 337.21,-48.73 344.08,-47.35\"/>\n",
       "</g>\n",
       "<!-- 6 -->\n",
       "<g id=\"node7\" class=\"node\">\n",
       "<title>6</title>\n",
       "<path fill=\"none\" stroke=\"black\" d=\"M500.5,-38C500.5,-38 415.5,-38 415.5,-38 409.5,-38 403.5,-32 403.5,-26 403.5,-26 403.5,-12 403.5,-12 403.5,-6 409.5,0 415.5,0 415.5,0 500.5,0 500.5,0 506.5,0 512.5,-6 512.5,-12 512.5,-12 512.5,-26 512.5,-26 512.5,-32 506.5,-38 500.5,-38\"/>\n",
       "<text text-anchor=\"start\" x=\"416\" y=\"-22.8\" font-family=\"Helvetica,sans-Serif\" font-size=\"14.00\">samples = 83</text>\n",
       "<text text-anchor=\"start\" x=\"411.5\" y=\"-7.8\" font-family=\"Helvetica,sans-Serif\" font-size=\"14.00\">value = 16.096</text>\n",
       "</g>\n",
       "<!-- 4&#45;&gt;6 -->\n",
       "<g id=\"edge6\" class=\"edge\">\n",
       "<title>4&#45;&gt;6</title>\n",
       "<path fill=\"none\" stroke=\"black\" d=\"M385.44,-73.91C398.15,-64.47 412.51,-53.8 425.08,-44.46\"/>\n",
       "<polygon fill=\"black\" stroke=\"black\" points=\"427.51,-47.01 433.45,-38.24 423.34,-41.39 427.51,-47.01\"/>\n",
       "</g>\n",
       "</g>\n",
       "</svg>\n"
      ],
      "text/plain": [
       "<graphviz.sources.Source at 0x7f93da8efca0>"
      ]
     },
     "execution_count": 9,
     "metadata": {},
     "output_type": "execute_result"
    }
   ],
   "source": [
    "'''Builds Regression Tree to Predict DailyED.'''\n",
    "\n",
    "np.random.seed(101)\n",
    "\n",
    "# Assigns train and test data\n",
    "X_train = train.drop(['Day', 'DailyED'], axis=1)\n",
    "y_train = train[['DailyED']]\n",
    "X_test = test.drop(['Day', 'DailyED'], axis=1)\n",
    "y_test = test[['DailyED']]\n",
    "\n",
    "# Builds tree\n",
    "hospital_tree = tree.DecisionTreeRegressor(max_depth=2)\n",
    "hospital_tree = hospital_tree.fit(X_train, y_train)\n",
    "\n",
    "hospital_columns = train.columns[2:]\n",
    "dot_data = tree.export_graphviz(hospital_tree, out_file=None,\n",
    "                                feature_names=hospital_columns,\n",
    "                                impurity = False, rounded=True,\n",
    "                                special_characters=True) \n",
    "\n",
    "# Visualizes tree\n",
    "graph = graphviz.Source(dot_data) \n",
    "graph"
   ]
  },
  {
   "cell_type": "code",
   "execution_count": 10,
   "id": "d297b88b-a2d6-44df-84c6-ac1caa33e96b",
   "metadata": {},
   "outputs": [
    {
     "name": "stdout",
     "output_type": "stream",
     "text": [
      "Leaf 2: 13.0\n",
      "Leaf 3: 16.0\n",
      "Leaf 5: 20.0\n",
      "Leaf 6: 19.0\n"
     ]
    }
   ],
   "source": [
    "'''Optimal Staffing Level for Each Leaf of the Tree.'''\n",
    "\n",
    "leaf_mapping_train = hospital_tree.apply(X_train)\n",
    "leaf_mapping_test= hospital_tree.apply(X_test)\n",
    "\n",
    "leaves = [i for i in range(hospital_tree.tree_.node_count) if hospital_tree.tree_.children_left[i] == -1]\n",
    "leaf_to_quantile = np.zeros( hospital_tree.tree_.node_count )\n",
    "\n",
    "c_o = 2160\n",
    "c_u = 5400\n",
    "nv_quantile = c_u / (c_u + c_o)\n",
    "\n",
    "for ell in leaves:\n",
    "    ind = leaf_mapping_train == ell\n",
    "    y_ell = y_train[ind]\n",
    "    leaf_to_quantile[ell] = round(np.quantile(y_ell, nv_quantile))\n",
    "    \n",
    "# Maps each leaf to it's corresponding optimal staffing level\n",
    "leaf_mapping = {leaf: leaf_to_quantile[leaf] for leaf in leaves}\n",
    "[print(f'Leaf {leaf}: {val}') for leaf, val in leaf_mapping.items()];"
   ]
  },
  {
   "cell_type": "markdown",
   "id": "df215f70-cf6c-41f9-9392-c646a02c95d8",
   "metadata": {},
   "source": [
    "**Average Cost Over 200 Train Days With Q=17 and Optimal Approach:**"
   ]
  },
  {
   "cell_type": "code",
   "execution_count": 11,
   "id": "3ad661b6-36db-4069-a05a-5b4fa19a64a7",
   "metadata": {},
   "outputs": [],
   "source": [
    "def staffing_rule_profit_loss(D, Q):\n",
    "    return c_u * max(D-Q, 0) + c_o * max(Q-D, 0) + c_o * min(Q, D)"
   ]
  },
  {
   "cell_type": "code",
   "execution_count": 12,
   "id": "a50511f2-7d7a-4895-a59c-eb522bfe7664",
   "metadata": {},
   "outputs": [
    {
     "name": "stdout",
     "output_type": "stream",
     "text": [
      "$40,921.20\n"
     ]
    }
   ],
   "source": [
    "train_profit_loss = []\n",
    "for i in range(len(daily_ed_train)):\n",
    "    D = daily_ed_train[i]\n",
    "    Q = leaf_mapping[leaf_mapping_train[i]]\n",
    "    \n",
    "    train_profit_loss.append(staffing_rule_profit_loss(D, Q))\n",
    "\n",
    "print(f'${np.mean(train_profit_loss):,.2f}')"
   ]
  },
  {
   "cell_type": "markdown",
   "id": "559e2b5b-03da-4956-b6d6-313837ff4a8d",
   "metadata": {},
   "source": [
    "**Average Cost Over 100 Test Days With Q=17 and Optimal Approach:**"
   ]
  },
  {
   "cell_type": "code",
   "execution_count": 13,
   "id": "bc9f6bd9-8d48-48dc-b0e1-c9fc0e447462",
   "metadata": {},
   "outputs": [
    {
     "name": "stdout",
     "output_type": "stream",
     "text": [
      "$39,225.60\n"
     ]
    }
   ],
   "source": [
    "test_profit_loss = []\n",
    "for i in range(len(daily_ed_test)):\n",
    "    D = daily_ed_test[i]\n",
    "    Q = leaf_mapping[leaf_mapping_test[i]]\n",
    "    \n",
    "    test_profit_loss.append(staffing_rule_profit_loss(D, Q))\n",
    "\n",
    "print(f'${np.mean(test_profit_loss):,.2f}')"
   ]
  }
 ],
 "metadata": {
  "kernelspec": {
   "display_name": "Python 3 (ipykernel)",
   "language": "python",
   "name": "python3"
  },
  "language_info": {
   "codemirror_mode": {
    "name": "ipython",
    "version": 3
   },
   "file_extension": ".py",
   "mimetype": "text/x-python",
   "name": "python",
   "nbconvert_exporter": "python",
   "pygments_lexer": "ipython3",
   "version": "3.9.5"
  }
 },
 "nbformat": 4,
 "nbformat_minor": 5
}
