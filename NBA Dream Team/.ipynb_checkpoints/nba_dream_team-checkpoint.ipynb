{
 "cells": [
  {
   "cell_type": "markdown",
   "id": "de989ea2-9d0b-4b76-9bef-a185ce4ce86a",
   "metadata": {},
   "source": [
    "# NBA Dream Team (Timothy Manolias)\n",
    "\n",
    "### The following program predicts the amount of points a team will score in a season, based on their aggregate stats in that season. Next, we construct a 'Dream Team' from players in the league during the 2013-2019 seasons."
   ]
  },
  {
   "cell_type": "code",
   "execution_count": 1,
   "id": "5a41e895-ec87-49c8-a77f-b811c0fabc7b",
   "metadata": {
    "jupyter": {
     "source_hidden": true
    },
    "tags": []
   },
   "outputs": [
    {
     "data": {
      "text/html": [
       "<img src=\"Images/Question.png\" width=\"700\"/>"
      ],
      "text/plain": [
       "<IPython.core.display.Image object>"
      ]
     },
     "execution_count": 1,
     "metadata": {},
     "output_type": "execute_result"
    }
   ],
   "source": [
    "from IPython.display import Image\n",
    "from IPython.core.display import HTML\n",
    "\n",
    "Image(url='Images/Question.png', width=700)"
   ]
  },
  {
   "cell_type": "code",
   "execution_count": 2,
   "id": "25fdb5c5-cb1e-4354-8112-cfb6ec8532bb",
   "metadata": {},
   "outputs": [
    {
     "data": {
      "text/html": [
       "<div>\n",
       "<style scoped>\n",
       "    .dataframe tbody tr th:only-of-type {\n",
       "        vertical-align: middle;\n",
       "    }\n",
       "\n",
       "    .dataframe tbody tr th {\n",
       "        vertical-align: top;\n",
       "    }\n",
       "\n",
       "    .dataframe thead th {\n",
       "        text-align: right;\n",
       "    }\n",
       "</style>\n",
       "<table border=\"1\" class=\"dataframe\">\n",
       "  <thead>\n",
       "    <tr style=\"text-align: right;\">\n",
       "      <th></th>\n",
       "      <th>Team</th>\n",
       "      <th>Year</th>\n",
       "      <th>G</th>\n",
       "      <th>X3P</th>\n",
       "      <th>X3PA</th>\n",
       "      <th>X2P</th>\n",
       "      <th>X2PA</th>\n",
       "      <th>FG</th>\n",
       "      <th>FGA</th>\n",
       "      <th>FT</th>\n",
       "      <th>FTA</th>\n",
       "      <th>ORB</th>\n",
       "      <th>DRB</th>\n",
       "      <th>AST</th>\n",
       "      <th>STL</th>\n",
       "      <th>BLK</th>\n",
       "      <th>TOV</th>\n",
       "      <th>PF</th>\n",
       "      <th>PTS</th>\n",
       "      <th>Playoffs</th>\n",
       "    </tr>\n",
       "  </thead>\n",
       "  <tbody>\n",
       "    <tr>\n",
       "      <th>0</th>\n",
       "      <td>Denver Nuggets</td>\n",
       "      <td>2013</td>\n",
       "      <td>82</td>\n",
       "      <td>521</td>\n",
       "      <td>1518</td>\n",
       "      <td>2818</td>\n",
       "      <td>5465</td>\n",
       "      <td>3339</td>\n",
       "      <td>6983</td>\n",
       "      <td>1505</td>\n",
       "      <td>2148</td>\n",
       "      <td>1092</td>\n",
       "      <td>2601</td>\n",
       "      <td>2002</td>\n",
       "      <td>762</td>\n",
       "      <td>533</td>\n",
       "      <td>1253</td>\n",
       "      <td>1682</td>\n",
       "      <td>8704</td>\n",
       "      <td>1</td>\n",
       "    </tr>\n",
       "    <tr>\n",
       "      <th>1</th>\n",
       "      <td>Houston Rockets</td>\n",
       "      <td>2013</td>\n",
       "      <td>82</td>\n",
       "      <td>867</td>\n",
       "      <td>2369</td>\n",
       "      <td>2257</td>\n",
       "      <td>4413</td>\n",
       "      <td>3124</td>\n",
       "      <td>6782</td>\n",
       "      <td>1573</td>\n",
       "      <td>2087</td>\n",
       "      <td>909</td>\n",
       "      <td>2652</td>\n",
       "      <td>1902</td>\n",
       "      <td>679</td>\n",
       "      <td>359</td>\n",
       "      <td>1348</td>\n",
       "      <td>1662</td>\n",
       "      <td>8688</td>\n",
       "      <td>1</td>\n",
       "    </tr>\n",
       "    <tr>\n",
       "      <th>2</th>\n",
       "      <td>Oklahoma City Thunder</td>\n",
       "      <td>2013</td>\n",
       "      <td>82</td>\n",
       "      <td>598</td>\n",
       "      <td>1588</td>\n",
       "      <td>2528</td>\n",
       "      <td>4916</td>\n",
       "      <td>3126</td>\n",
       "      <td>6504</td>\n",
       "      <td>1819</td>\n",
       "      <td>2196</td>\n",
       "      <td>854</td>\n",
       "      <td>2725</td>\n",
       "      <td>1753</td>\n",
       "      <td>679</td>\n",
       "      <td>624</td>\n",
       "      <td>1253</td>\n",
       "      <td>1654</td>\n",
       "      <td>8669</td>\n",
       "      <td>1</td>\n",
       "    </tr>\n",
       "    <tr>\n",
       "      <th>3</th>\n",
       "      <td>San Antonio Spurs</td>\n",
       "      <td>2013</td>\n",
       "      <td>82</td>\n",
       "      <td>663</td>\n",
       "      <td>1764</td>\n",
       "      <td>2547</td>\n",
       "      <td>4911</td>\n",
       "      <td>3210</td>\n",
       "      <td>6675</td>\n",
       "      <td>1365</td>\n",
       "      <td>1725</td>\n",
       "      <td>666</td>\n",
       "      <td>2721</td>\n",
       "      <td>2058</td>\n",
       "      <td>695</td>\n",
       "      <td>446</td>\n",
       "      <td>1206</td>\n",
       "      <td>1427</td>\n",
       "      <td>8448</td>\n",
       "      <td>1</td>\n",
       "    </tr>\n",
       "    <tr>\n",
       "      <th>4</th>\n",
       "      <td>Miami Heat</td>\n",
       "      <td>2013</td>\n",
       "      <td>82</td>\n",
       "      <td>717</td>\n",
       "      <td>1809</td>\n",
       "      <td>2431</td>\n",
       "      <td>4539</td>\n",
       "      <td>3148</td>\n",
       "      <td>6348</td>\n",
       "      <td>1423</td>\n",
       "      <td>1887</td>\n",
       "      <td>676</td>\n",
       "      <td>2490</td>\n",
       "      <td>1890</td>\n",
       "      <td>710</td>\n",
       "      <td>441</td>\n",
       "      <td>1143</td>\n",
       "      <td>1533</td>\n",
       "      <td>8436</td>\n",
       "      <td>1</td>\n",
       "    </tr>\n",
       "  </tbody>\n",
       "</table>\n",
       "</div>"
      ],
      "text/plain": [
       "                    Team  Year   G  X3P  X3PA   X2P  X2PA    FG   FGA    FT  \\\n",
       "0         Denver Nuggets  2013  82  521  1518  2818  5465  3339  6983  1505   \n",
       "1        Houston Rockets  2013  82  867  2369  2257  4413  3124  6782  1573   \n",
       "2  Oklahoma City Thunder  2013  82  598  1588  2528  4916  3126  6504  1819   \n",
       "3      San Antonio Spurs  2013  82  663  1764  2547  4911  3210  6675  1365   \n",
       "4             Miami Heat  2013  82  717  1809  2431  4539  3148  6348  1423   \n",
       "\n",
       "    FTA   ORB   DRB   AST  STL  BLK   TOV    PF   PTS  Playoffs  \n",
       "0  2148  1092  2601  2002  762  533  1253  1682  8704         1  \n",
       "1  2087   909  2652  1902  679  359  1348  1662  8688         1  \n",
       "2  2196   854  2725  1753  679  624  1253  1654  8669         1  \n",
       "3  1725   666  2721  2058  695  446  1206  1427  8448         1  \n",
       "4  1887   676  2490  1890  710  441  1143  1533  8436         1  "
      ]
     },
     "execution_count": 2,
     "metadata": {},
     "output_type": "execute_result"
    }
   ],
   "source": [
    "'''Imports Libraries and Data.'''\n",
    "\n",
    "from gurobipy import *\n",
    "import pandas as pd\n",
    "import numpy as np\n",
    "import statsmodels.api as sm\n",
    "from sklearn.metrics import r2_score\n",
    "from sklearn.linear_model import LinearRegression\n",
    "\n",
    "nba_stats = pd.read_csv('Data/nba-stats-2013-2019.csv')\n",
    "nba_players = pd.read_csv('Data/nba-players-2018-2019-with-pos.csv')\n",
    "\n",
    "nba_stats.head()"
   ]
  },
  {
   "cell_type": "markdown",
   "id": "903d1c34-d7bc-4beb-acdb-dca2fa2a3635",
   "metadata": {},
   "source": [
    "### Part 1: Developing a Simple Linear Regression\n",
    "\n",
    "**Predicts Amount of Points a Team Will Score in a Season.**"
   ]
  },
  {
   "cell_type": "code",
   "execution_count": 3,
   "id": "df27d21b-ac27-41b6-8359-d21e325afa2f",
   "metadata": {},
   "outputs": [],
   "source": [
    "'''Estimates Linear Regression Model.'''\n",
    "\n",
    "train = nba_stats.loc[nba_stats['Year'] <= 2017]\n",
    "test = nba_stats.loc[nba_stats['Year'] > 2017]\n",
    "\n",
    "# Train set\n",
    "y_train = train['PTS']\n",
    "X_train = train.drop(['Team', 'Year', 'G', 'Playoffs', 'PTS'], axis=1)\n",
    "\n",
    "lin_reg = LinearRegression().fit(X_train, y_train)"
   ]
  },
  {
   "cell_type": "markdown",
   "id": "d7cd9cc2-e0b0-4d05-a453-fb5bacfd1228",
   "metadata": {},
   "source": [
    "**Training Set $R^2$:**"
   ]
  },
  {
   "cell_type": "code",
   "execution_count": 4,
   "id": "088d5f30-66fc-4cab-8ae2-83e095b950bb",
   "metadata": {},
   "outputs": [
    {
     "data": {
      "text/plain": [
       "1.0"
      ]
     },
     "execution_count": 4,
     "metadata": {},
     "output_type": "execute_result"
    }
   ],
   "source": [
    "lin_reg.score(X_train, y_train)"
   ]
  },
  {
   "cell_type": "markdown",
   "id": "53499235-2bdf-4a32-9d14-110d80b7639f",
   "metadata": {},
   "source": [
    "**Non-Zero Coefficients:**"
   ]
  },
  {
   "cell_type": "code",
   "execution_count": 5,
   "id": "a4836c24-7722-4ca0-90c6-b1cb5e618b42",
   "metadata": {},
   "outputs": [
    {
     "data": {
      "text/plain": [
       "[('X3P', 1.3333333333333317),\n",
       " ('X2P', 0.333333333333335),\n",
       " ('FG', 1.6666666666666665),\n",
       " ('FT', 0.9999999999999998)]"
      ]
     },
     "execution_count": 5,
     "metadata": {},
     "output_type": "execute_result"
    }
   ],
   "source": [
    "coefs = [coef for coef in zip(X_train.columns, lin_reg.coef_) if np.abs(coef[1])>.00001]\n",
    "coefs"
   ]
  },
  {
   "cell_type": "markdown",
   "id": "5b47f36b-b45f-4aff-bf2e-53dbf818a58a",
   "metadata": {},
   "source": [
    "**Regression Equation:**"
   ]
  },
  {
   "cell_type": "markdown",
   "id": "c586b1c8-407c-44e6-b0c9-5eba07da5ea4",
   "metadata": {},
   "source": [
    "PTS = $1.33*$X3P + $0.33*$X2P + $1.67*$FG + $1.0*$FT\n",
    "\n",
    "The results of this regression are not surprising because the model simply keeps the variables which have a direct effect on the amount of points a team scores. The amount of 3-pointers, 2-pointers, field goals and free throws will give the exact amount of points scored for a team. Therefore, the model perfectly predicts the amount of points a team scores, as indicated by the $R^2$ of 1.0."
   ]
  },
  {
   "cell_type": "markdown",
   "id": "769db3db-6733-4fbf-af49-6c277709d0f7",
   "metadata": {},
   "source": [
    "### Part 2: Building a Better Linear Regression Model\n",
    "\n",
    "- Excludes variables which directly contribute to points scored (2-pointers scored, 3-pointers scored, free throws)."
   ]
  },
  {
   "cell_type": "markdown",
   "id": "25e62f10-b1fd-46cd-bc3e-6c74f7fd210e",
   "metadata": {},
   "source": [
    "**Obtains Statistically Significant Variables:**"
   ]
  },
  {
   "cell_type": "code",
   "execution_count": 6,
   "id": "a6711832-7d4f-4ee7-91a7-dfae148ab947",
   "metadata": {},
   "outputs": [
    {
     "data": {
      "text/plain": [
       "[('X3PA', 1.8474256120647054e-13),\n",
       " ('FGA', 6.630129120236298e-09),\n",
       " ('FTA', 9.42386128830506e-15),\n",
       " ('DRB', 0.000960016893636361),\n",
       " ('AST', 9.67373209225348e-11),\n",
       " ('TOV', 0.003568375881840509),\n",
       " ('PF', 0.04366868424827717)]"
      ]
     },
     "execution_count": 6,
     "metadata": {},
     "output_type": "execute_result"
    }
   ],
   "source": [
    "'''Obtains dependent and independent variables for train set.'''\n",
    "\n",
    "# Train set\n",
    "y_train = train['PTS']\n",
    "X_train = train[['X3PA', 'X2PA', 'FGA', 'FTA', 'ORB', 'DRB', 'AST', 'STL', 'BLK', 'TOV', 'PF']]\n",
    "\n",
    "# Computes p-values for OLS\n",
    "model = sm.OLS(y_train, X_train).fit()\n",
    "p_values = model.summary2().tables[1]['P>|t|']\n",
    "significant_vars = [coef for coef in p_values.items() if coef[1]<=0.05]\n",
    "\n",
    "significant_vars"
   ]
  },
  {
   "cell_type": "code",
   "execution_count": 7,
   "id": "ff5464a7-6b68-449d-bc46-da6d5b2b4573",
   "metadata": {},
   "outputs": [
    {
     "data": {
      "text/plain": [
       "[('X3PA', 0.34024769788726267),\n",
       " ('X2PA', 0.010794861554335344),\n",
       " ('FGA', 0.35104255944159846),\n",
       " ('FTA', 0.7812218918260065),\n",
       " ('ORB', -0.2027670064693409),\n",
       " ('DRB', 0.6106360794077946),\n",
       " ('AST', 0.9151002208220944),\n",
       " ('STL', 0.5050598541499401),\n",
       " ('BLK', 0.07974950388755275),\n",
       " ('TOV', -0.6270084081155936),\n",
       " ('PF', 0.30420044289917414)]"
      ]
     },
     "execution_count": 7,
     "metadata": {},
     "output_type": "execute_result"
    }
   ],
   "source": [
    "'''Calculates Probability of a 3-Point Attempt Being Successful.'''\n",
    "\n",
    "lin_reg = LinearRegression().fit(X_train, y_train)\n",
    "coefs = [coef for coef in zip(X_train.columns, lin_reg.coef_)]\n",
    "coefs"
   ]
  },
  {
   "cell_type": "code",
   "execution_count": 8,
   "id": "56aa38ec-9efb-48f7-adcc-3d4702cee3ce",
   "metadata": {},
   "outputs": [
    {
     "name": "stdout",
     "output_type": "stream",
     "text": [
      "Successful 3-Point %: 23.04%\n"
     ]
    }
   ],
   "source": [
    "print(f'Successful 3-Point %: {100*(0.34024 + 0.35104) / 3:.2f}%')"
   ]
  },
  {
   "cell_type": "markdown",
   "id": "e6368f6d-bcc8-4622-9757-b29f4328736f",
   "metadata": {},
   "source": [
    "The sum of the `X3PA` and `FGA` coefficients represents the probability of a 3-point attempt yielding a 1-point increase. Therefore, the probability of a successful 3-point attempt is the sum of the `X3PA` coefficient and the `FGA` coefficient, divided by three, which is 23.04%."
   ]
  },
  {
   "cell_type": "code",
   "execution_count": 9,
   "id": "a6be7f64-86af-45a6-a9d9-6c18e7cf31cf",
   "metadata": {},
   "outputs": [
    {
     "data": {
      "text/plain": [
       "0.7618057588674045"
      ]
     },
     "execution_count": 9,
     "metadata": {},
     "output_type": "execute_result"
    }
   ],
   "source": [
    "'''Makes Predictions on Test Set.'''\n",
    "\n",
    "# Test set\n",
    "y_test = test['PTS']\n",
    "X_test = test[['X3PA', 'X2PA', 'FGA', 'FTA', 'ORB', 'DRB', 'AST', 'STL', 'BLK', 'TOV', 'PF']]\n",
    "\n",
    "# Predictions on test set\n",
    "y_preds = lin_reg.predict(X_test)\n",
    "r2_score(y_test, y_preds)"
   ]
  },
  {
   "cell_type": "markdown",
   "id": "83924314-e804-4e67-aaa4-4edff3947659",
   "metadata": {},
   "source": [
    "### Part 3: The Dream Team"
   ]
  },
  {
   "cell_type": "code",
   "execution_count": 10,
   "id": "58debcc5-293c-4cdc-9e76-c48395d35136",
   "metadata": {
    "jupyter": {
     "source_hidden": true
    },
    "tags": []
   },
   "outputs": [
    {
     "data": {
      "text/html": [
       "<img src=\"Images/Dream Team.png\" width=\"700\"/>"
      ],
      "text/plain": [
       "<IPython.core.display.Image object>"
      ]
     },
     "execution_count": 10,
     "metadata": {},
     "output_type": "execute_result"
    }
   ],
   "source": [
    "Image(url='Images/Dream Team.png', width=700)"
   ]
  },
  {
   "cell_type": "code",
   "execution_count": 11,
   "id": "61b7c2e9-dc00-4573-bbd0-f2a210602d51",
   "metadata": {},
   "outputs": [
    {
     "data": {
      "text/html": [
       "<div>\n",
       "<style scoped>\n",
       "    .dataframe tbody tr th:only-of-type {\n",
       "        vertical-align: middle;\n",
       "    }\n",
       "\n",
       "    .dataframe tbody tr th {\n",
       "        vertical-align: top;\n",
       "    }\n",
       "\n",
       "    .dataframe thead th {\n",
       "        text-align: right;\n",
       "    }\n",
       "</style>\n",
       "<table border=\"1\" class=\"dataframe\">\n",
       "  <thead>\n",
       "    <tr style=\"text-align: right;\">\n",
       "      <th></th>\n",
       "      <th>Player</th>\n",
       "      <th>Pos</th>\n",
       "      <th>Tm</th>\n",
       "      <th>X3PA</th>\n",
       "      <th>X2PA</th>\n",
       "      <th>FGA</th>\n",
       "      <th>FTA</th>\n",
       "      <th>ORB</th>\n",
       "      <th>DRB</th>\n",
       "      <th>AST</th>\n",
       "      <th>STL</th>\n",
       "      <th>BLK</th>\n",
       "      <th>TOV</th>\n",
       "      <th>PF</th>\n",
       "      <th>Salary</th>\n",
       "      <th>Predicted_Points</th>\n",
       "    </tr>\n",
       "  </thead>\n",
       "  <tbody>\n",
       "    <tr>\n",
       "      <th>202</th>\n",
       "      <td>James Harden</td>\n",
       "      <td>PG</td>\n",
       "      <td>HOU</td>\n",
       "      <td>1028</td>\n",
       "      <td>881</td>\n",
       "      <td>1909</td>\n",
       "      <td>858</td>\n",
       "      <td>66</td>\n",
       "      <td>452</td>\n",
       "      <td>586</td>\n",
       "      <td>158</td>\n",
       "      <td>58</td>\n",
       "      <td>387</td>\n",
       "      <td>244</td>\n",
       "      <td>30431854.0</td>\n",
       "      <td>2414.584733</td>\n",
       "    </tr>\n",
       "    <tr>\n",
       "      <th>497</th>\n",
       "      <td>Russell Westbrook</td>\n",
       "      <td>PG</td>\n",
       "      <td>OKC</td>\n",
       "      <td>411</td>\n",
       "      <td>1062</td>\n",
       "      <td>1473</td>\n",
       "      <td>451</td>\n",
       "      <td>109</td>\n",
       "      <td>698</td>\n",
       "      <td>784</td>\n",
       "      <td>142</td>\n",
       "      <td>33</td>\n",
       "      <td>325</td>\n",
       "      <td>245</td>\n",
       "      <td>35654150.0</td>\n",
       "      <td>2087.385272</td>\n",
       "    </tr>\n",
       "    <tr>\n",
       "      <th>179</th>\n",
       "      <td>Paul George</td>\n",
       "      <td>SF</td>\n",
       "      <td>OKC</td>\n",
       "      <td>757</td>\n",
       "      <td>857</td>\n",
       "      <td>1614</td>\n",
       "      <td>540</td>\n",
       "      <td>105</td>\n",
       "      <td>523</td>\n",
       "      <td>318</td>\n",
       "      <td>170</td>\n",
       "      <td>34</td>\n",
       "      <td>205</td>\n",
       "      <td>214</td>\n",
       "      <td>30560700.0</td>\n",
       "      <td>1869.469050</td>\n",
       "    </tr>\n",
       "    <tr>\n",
       "      <th>17</th>\n",
       "      <td>Giannis Antetokounmpo</td>\n",
       "      <td>PF</td>\n",
       "      <td>MIL</td>\n",
       "      <td>203</td>\n",
       "      <td>1044</td>\n",
       "      <td>1247</td>\n",
       "      <td>686</td>\n",
       "      <td>159</td>\n",
       "      <td>739</td>\n",
       "      <td>424</td>\n",
       "      <td>92</td>\n",
       "      <td>110</td>\n",
       "      <td>268</td>\n",
       "      <td>232</td>\n",
       "      <td>24157304.0</td>\n",
       "      <td>1818.805211</td>\n",
       "    </tr>\n",
       "    <tr>\n",
       "      <th>300</th>\n",
       "      <td>Damian Lillard</td>\n",
       "      <td>PG</td>\n",
       "      <td>POR</td>\n",
       "      <td>643</td>\n",
       "      <td>890</td>\n",
       "      <td>1533</td>\n",
       "      <td>513</td>\n",
       "      <td>68</td>\n",
       "      <td>303</td>\n",
       "      <td>551</td>\n",
       "      <td>88</td>\n",
       "      <td>34</td>\n",
       "      <td>212</td>\n",
       "      <td>148</td>\n",
       "      <td>27977689.0</td>\n",
       "      <td>1802.009201</td>\n",
       "    </tr>\n",
       "  </tbody>\n",
       "</table>\n",
       "</div>"
      ],
      "text/plain": [
       "                    Player Pos   Tm  X3PA  X2PA   FGA  FTA  ORB  DRB  AST  \\\n",
       "202           James Harden  PG  HOU  1028   881  1909  858   66  452  586   \n",
       "497      Russell Westbrook  PG  OKC   411  1062  1473  451  109  698  784   \n",
       "179            Paul George  SF  OKC   757   857  1614  540  105  523  318   \n",
       "17   Giannis Antetokounmpo  PF  MIL   203  1044  1247  686  159  739  424   \n",
       "300         Damian Lillard  PG  POR   643   890  1533  513   68  303  551   \n",
       "\n",
       "     STL  BLK  TOV   PF      Salary  Predicted_Points  \n",
       "202  158   58  387  244  30431854.0       2414.584733  \n",
       "497  142   33  325  245  35654150.0       2087.385272  \n",
       "179  170   34  205  214  30560700.0       1869.469050  \n",
       "17    92  110  268  232  24157304.0       1818.805211  \n",
       "300   88   34  212  148  27977689.0       1802.009201  "
      ]
     },
     "execution_count": 11,
     "metadata": {},
     "output_type": "execute_result"
    }
   ],
   "source": [
    "'''Predicts Total Points A Player Will Score.'''\n",
    "\n",
    "# Predicts points\n",
    "for i, player in nba_players.drop(['Player', 'Pos', 'Tm', 'Salary'], axis=1).iterrows():\n",
    "    nba_players.at[i, 'Predicted_Points'] = sum(player.values * lin_reg.coef_)\n",
    "    \n",
    "# Sorts by most predicted points\n",
    "nba_players.sort_values(['Predicted_Points'], ascending=False, inplace=True)\n",
    "nba_players_arr = nba_players.to_numpy()\n",
    "\n",
    "nba_players.head()"
   ]
  },
  {
   "cell_type": "code",
   "execution_count": 12,
   "id": "bd24b673-83fb-4b70-b717-e2564610073c",
   "metadata": {},
   "outputs": [
    {
     "name": "stdout",
     "output_type": "stream",
     "text": [
      "Academic license - for non-commercial use only - expires 2022-01-16\n",
      "Using license file /Users/Nolias/gurobi.lic\n"
     ]
    }
   ],
   "source": [
    "'''Find Optimal Set of Players for Dream Team.'''\n",
    "\n",
    "nPlayers = len(nba_players_arr)\n",
    "\n",
    "# Creates model\n",
    "m = Model()\n",
    "\n",
    "\n",
    "# Suppresses output\n",
    "m.Params.outputFlag = 0\n",
    "\n",
    "\n",
    "# Adds decision variable for each available player\n",
    "x = m.addVars(nPlayers, vtype=GRB.BINARY)\n",
    "\n",
    "\n",
    "# Adds constraints\n",
    "# Total salary can't exceed 100,000,000\n",
    "m.addConstr( sum(x[p] * nba_players_arr[p][-2] for p in range(nPlayers)) <= 100_000_000 )\n",
    "\n",
    "# Exactly three players for each position\n",
    "positions = np.unique(nba_players['Pos'].values).tolist()\n",
    "for pos in positions:\n",
    "    m.addConstr( sum(x[p] for p in range(nPlayers) if nba_players_arr[p][1] == pos) == 3 )\n",
    "\n",
    "\n",
    "# Adds objective function to maximize points\n",
    "m.setObjective( sum(x[p] * nba_players_arr[p][-1] for p in range(nPlayers)), GRB.MAXIMIZE )\n",
    "\n",
    "\n",
    "m.update()\n",
    "m.optimize()"
   ]
  },
  {
   "cell_type": "markdown",
   "id": "0fdfdb95-31a3-48d6-b865-3f872517b2a0",
   "metadata": {},
   "source": [
    "**Selected Players for the Dream Team:**"
   ]
  },
  {
   "cell_type": "code",
   "execution_count": 13,
   "id": "7eba41cb-951e-44d8-a7f7-42ddc09f65c1",
   "metadata": {},
   "outputs": [
    {
     "name": "stdout",
     "output_type": "stream",
     "text": [
      "Karl-Anthony Towns        C          $ 7,839,435.0\n",
      "Nikola Vucevic            C          $12,750,000.0\n",
      "Domantas Sabonis          C          $ 2,659,800.0\n",
      "Giannis Antetokounmpo     PF         $24,157,304.0\n",
      "Pascal Siakam             PF         $ 1,544,951.0\n",
      "Kyle Kuzma                PF         $ 1,689,840.0\n",
      "Kemba Walker              PG         $12,000,000.0\n",
      "Trae Young                PG         $ 5,356,440.0\n",
      "De'Aaron Fox              PG         $ 5,470,920.0\n",
      "Jayson Tatum              SF         $ 6,700,800.0\n",
      "Cedi Osman                SF         $ 2,775,000.0\n",
      "Justise Winslow           SF         $ 3,448,926.0\n",
      "Luka Doncic               SG         $ 6,560,640.0\n",
      "Donovan Mitchell          SG         $ 3,111,480.0\n",
      "Devin Booker              SG         $ 3,314,365.0\n",
      "\n",
      "\n",
      "Total Salary: $ 99,379,901.0\n",
      "\n",
      "Total Points: 20,578\n"
     ]
    }
   ],
   "source": [
    "'''Prints Dream Team.'''\n",
    "\n",
    "dream_team = nba_players_arr[[p for p in range(nPlayers) if x[p].x > 0.5]]\n",
    "sorted_dream_team = dream_team[np.argsort(dream_team[:, 1])]\n",
    "\n",
    "for player in sorted_dream_team:\n",
    "    print(f'{player[0]:25} {player[1]:10} ${player[-2]:12,}')\n",
    "    \n",
    "print(f'\\n\\nTotal Salary: ${sum([p[-2] for p in sorted_dream_team]): ,}')\n",
    "print(f'\\nTotal Points: {lin_reg.intercept_ + sum([p[-1] for p in sorted_dream_team]):,.0f}')"
   ]
  },
  {
   "cell_type": "markdown",
   "id": "6fe3743f-7d42-43dd-8fad-8ca46f456853",
   "metadata": {},
   "source": [
    "### Analysis\n",
    "\n",
    "The dream team is predicted to score a total of 20,578 points in the upcoming season (286 points per game). This is clearly infeasible and unlikely to happen, given that not all of the 'star' players that were selected will have as many opportunities to shoot the ball as they currently do; there are only so many available shot attempts for a team each game.\n",
    "\n",
    "In the future, a better approach to building a dream team is one that accounts for other aspects of basketball, as opposed to simply maximizing the amount of points. A better model can include a defensive component where we also account for blocks, steals, defensive rebounds, etc."
   ]
  }
 ],
 "metadata": {
  "kernelspec": {
   "display_name": "Python 3 (ipykernel)",
   "language": "python",
   "name": "python3"
  },
  "language_info": {
   "codemirror_mode": {
    "name": "ipython",
    "version": 3
   },
   "file_extension": ".py",
   "mimetype": "text/x-python",
   "name": "python",
   "nbconvert_exporter": "python",
   "pygments_lexer": "ipython3",
   "version": "3.9.5"
  }
 },
 "nbformat": 4,
 "nbformat_minor": 5
}
