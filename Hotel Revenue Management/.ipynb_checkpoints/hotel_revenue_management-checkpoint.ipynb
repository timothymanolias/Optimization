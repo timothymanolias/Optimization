{
 "cells": [
  {
   "cell_type": "markdown",
   "id": "4f942456-2b86-4e25-a3e7-9c5c9e05e5f9",
   "metadata": {},
   "source": [
    "# Hotel Revenue Management (Timothy Manolias)\n",
    "\n",
    "### The following program determines which room requests a hotel should accept, so as to maximize revenue over a 90-day period."
   ]
  },
  {
   "cell_type": "code",
   "execution_count": 1,
   "id": "5ec7985a-0078-40e0-8d8c-7f8bd184d71d",
   "metadata": {
    "jupyter": {
     "source_hidden": true
    },
    "tags": []
   },
   "outputs": [
    {
     "data": {
      "text/html": [
       "<img src=\"Images/Question.png\" width=\"700\"/>"
      ],
      "text/plain": [
       "<IPython.core.display.Image object>"
      ]
     },
     "execution_count": 1,
     "metadata": {},
     "output_type": "execute_result"
    }
   ],
   "source": [
    "from IPython.display import Image\n",
    "from IPython.core.display import HTML\n",
    "\n",
    "Image(url='Images/Question.png', width=700)"
   ]
  },
  {
   "cell_type": "code",
   "execution_count": 2,
   "id": "3173de56-1d01-422e-951a-37851fbfcc3b",
   "metadata": {},
   "outputs": [],
   "source": [
    "'''Imports Libraries and Data.'''\n",
    "\n",
    "import pandas as pd\n",
    "import numpy as np\n",
    "\n",
    "hotel_probability = pd.read_csv(\"Data/hotel-probability.csv\")"
   ]
  },
  {
   "cell_type": "code",
   "execution_count": 3,
   "id": "462a93a9-b14e-4c80-bbc9-fd2c1407e4a2",
   "metadata": {},
   "outputs": [],
   "source": [
    "'''Sets Room Prices and Fees.'''\n",
    "\n",
    "T = 540\n",
    "prices = { 'Q': 200, 'K': 250, 'C': 300 }\n",
    "room_fees = { 1: 1, 2: 1, 3: 1, 4: 1.15,\n",
    "              5: 1.15, 6: 1.15, 7: 1, 8: 1 }"
   ]
  },
  {
   "cell_type": "code",
   "execution_count": 4,
   "id": "1e952d41-f0c1-4072-9cf1-75768150edbe",
   "metadata": {},
   "outputs": [],
   "source": [
    "'''Calculates Revenue and Forecasted Demand.'''\n",
    "\n",
    "for i, entry in hotel_probability.iterrows():\n",
    "    room_price = prices[hotel_probability.at[i, 'r']]\n",
    "    din = hotel_probability.at[i, 'din']\n",
    "    dout = hotel_probability.at[i, 'dout']\n",
    "    \n",
    "    # Calculates Revenue\n",
    "    revenue_i = np.sum( [room_price * room_fees[d] for d in range(din, dout)] )\n",
    "    hotel_probability.at[i, 'revenue'] = revenue_i\n",
    "    \n",
    "    # Calculates Forecasted Demand\n",
    "    forecasted_demand_i = hotel_probability.at[i, 'probability'] * T\n",
    "    hotel_probability.at[i, 'forecast'] = forecasted_demand_i"
   ]
  },
  {
   "cell_type": "markdown",
   "id": "8972993b-65f9-43c6-928d-b0c9ba7f05d6",
   "metadata": {},
   "source": [
    "### Part 1: Determining an Optimal Static Allocation"
   ]
  },
  {
   "cell_type": "markdown",
   "id": "f0955f8e-892f-46a0-a135-ea37022449d1",
   "metadata": {},
   "source": [
    "**Linear Program:**"
   ]
  },
  {
   "cell_type": "code",
   "execution_count": 5,
   "id": "7fb9f731-dd79-471e-91a4-3b474a297ccf",
   "metadata": {
    "jupyter": {
     "source_hidden": true
    },
    "tags": []
   },
   "outputs": [
    {
     "data": {
      "text/html": [
       "<img src=\"Images/Linear Program.png\" width=\"500\"/>"
      ],
      "text/plain": [
       "<IPython.core.display.Image object>"
      ]
     },
     "execution_count": 5,
     "metadata": {},
     "output_type": "execute_result"
    }
   ],
   "source": [
    "Image(url='Images/Linear Program.png', width=500)"
   ]
  },
  {
   "cell_type": "markdown",
   "id": "027e72c8-29d7-4c33-98e2-415064814644",
   "metadata": {},
   "source": [
    "**Optimal Revenue After Solving the Linear Program:**"
   ]
  },
  {
   "cell_type": "code",
   "execution_count": 6,
   "id": "6c43859d-5599-474b-ba43-f945b4f33463",
   "metadata": {},
   "outputs": [],
   "source": [
    "'''Sets Up Variables to Perform Optimization.'''\n",
    "\n",
    "n_requests = hotel_probability.shape[0]\n",
    "n_days = 7\n",
    "n_beds = 3\n",
    "\n",
    "# Available rooms for each day and each bed type\n",
    "B = np.array([[50, 50, 20] for d in range(7)])\n",
    "\n",
    "# Appends # of days each request type will occupy for each request type to list\n",
    "requests_to_days = []\n",
    "for i, row in hotel_probability.iterrows():\n",
    "    din = hotel_probability.at[i, 'din']\n",
    "    dout = hotel_probability.at[i, 'dout']\n",
    "    requests_i = [i for i in range(din, dout)]\n",
    "\n",
    "    requests_to_days.append(requests_i)\n",
    "\n",
    "# Converts revenues, probabilities and forecasts to lists\n",
    "revenues = hotel_probability['revenue'].to_list()\n",
    "probabilities = hotel_probability['probability'].to_list()\n",
    "forecasts = hotel_probability['forecast'].to_list()"
   ]
  },
  {
   "cell_type": "code",
   "execution_count": 8,
   "id": "a8ec55f4-f826-4871-8a2b-a6c380fee354",
   "metadata": {},
   "outputs": [],
   "source": [
    "'''Optimization: Computes # of Each Request Type.'''\n",
    "\n",
    "from gurobipy import *\n",
    "\n",
    "# Creates the model\n",
    "m = Model()\n",
    "\n",
    "\n",
    "# Suppresses output\n",
    "m.Params.outputflag = 0\n",
    "\n",
    "\n",
    "# Creates decision variable with upper bound of demand forecast\n",
    "x = m.addVars( n_requests, lb=0, ub=forecasts )\n",
    "\n",
    "\n",
    "# Creates constraints\n",
    "# Total # of allocated beds for each day can’t exceed available beds for each room type\n",
    "queen_constr, king_constr, cali_constr = {}, {}, {}\n",
    "for day in range(1, n_days+1):\n",
    "    queen_constr[day] = m.addConstr( sum(x[i] for i in range(28) if day in requests_to_days[i]) <= B[day-1][0] )\n",
    "    king_constr[day] = m.addConstr( sum(x[i] for i in range(28, 56) if day in requests_to_days[i]) <= B[day-1][1] )\n",
    "    cali_constr[day] = m.addConstr( sum(x[i] for i in range(56, 84) if day in requests_to_days[i]) <= B[day-1][2] )\n",
    "\n",
    "# Total # of requests can’t exceed # of periods T\n",
    "requests_limit = m.addConstr( sum(x[i] for i in range(n_requests)) <= T )\n",
    "\n",
    "\n",
    "# Creates the objective function\n",
    "m.setObjective( sum(x[i] * revenues[i] for i in range(n_requests)), GRB.MAXIMIZE )\n",
    "\n",
    "\n",
    "# Updates and solves model\n",
    "m.update()\n",
    "m.optimize()"
   ]
  },
  {
   "cell_type": "code",
   "execution_count": 9,
   "id": "38412b08-c27c-4900-ac15-c19b9335d720",
   "metadata": {},
   "outputs": [
    {
     "data": {
      "text/html": [
       "<div>\n",
       "<style scoped>\n",
       "    .dataframe tbody tr th:only-of-type {\n",
       "        vertical-align: middle;\n",
       "    }\n",
       "\n",
       "    .dataframe tbody tr th {\n",
       "        vertical-align: top;\n",
       "    }\n",
       "\n",
       "    .dataframe thead th {\n",
       "        text-align: right;\n",
       "    }\n",
       "</style>\n",
       "<table border=\"1\" class=\"dataframe\">\n",
       "  <thead>\n",
       "    <tr style=\"text-align: right;\">\n",
       "      <th></th>\n",
       "      <th>1</th>\n",
       "      <th>2</th>\n",
       "      <th>3</th>\n",
       "      <th>4</th>\n",
       "      <th>5</th>\n",
       "      <th>6</th>\n",
       "      <th>7</th>\n",
       "    </tr>\n",
       "  </thead>\n",
       "  <tbody>\n",
       "    <tr>\n",
       "      <th>Q</th>\n",
       "      <td>34.0</td>\n",
       "      <td>50.0</td>\n",
       "      <td>50.0</td>\n",
       "      <td>50.0</td>\n",
       "      <td>50.0</td>\n",
       "      <td>28.0</td>\n",
       "      <td>14.0</td>\n",
       "    </tr>\n",
       "    <tr>\n",
       "      <th>K</th>\n",
       "      <td>20.0</td>\n",
       "      <td>50.0</td>\n",
       "      <td>50.0</td>\n",
       "      <td>50.0</td>\n",
       "      <td>48.0</td>\n",
       "      <td>30.0</td>\n",
       "      <td>16.0</td>\n",
       "    </tr>\n",
       "    <tr>\n",
       "      <th>C</th>\n",
       "      <td>20.0</td>\n",
       "      <td>20.0</td>\n",
       "      <td>20.0</td>\n",
       "      <td>20.0</td>\n",
       "      <td>20.0</td>\n",
       "      <td>20.0</td>\n",
       "      <td>12.0</td>\n",
       "    </tr>\n",
       "  </tbody>\n",
       "</table>\n",
       "</div>"
      ],
      "text/plain": [
       "      1     2     3     4     5     6     7\n",
       "Q  34.0  50.0  50.0  50.0  50.0  28.0  14.0\n",
       "K  20.0  50.0  50.0  50.0  48.0  30.0  16.0\n",
       "C  20.0  20.0  20.0  20.0  20.0  20.0  12.0"
      ]
     },
     "execution_count": 9,
     "metadata": {},
     "output_type": "execute_result"
    }
   ],
   "source": [
    "'''Calculates Total Beds Requested for Each Day.'''\n",
    "\n",
    "beds_per_day = {1: {}, 2: {}, 3: {}, 4: {}, 5: {}, 6: {}, 7: {}}\n",
    "\n",
    "for i in range(len(x)):\n",
    "    request_amount = x[i].x\n",
    "    din = hotel_probability.at[i, 'din']\n",
    "    dout = hotel_probability.at[i, 'dout']\n",
    "    bed = hotel_probability.at[i, 'r']\n",
    "    \n",
    "    for d in range(din, dout):\n",
    "        beds_per_day[d][bed] = beds_per_day[d].get(bed, 0) + request_amount\n",
    "    \n",
    "requests_per_day = pd.DataFrame(beds_per_day).round()\n",
    "requests_per_day"
   ]
  },
  {
   "cell_type": "code",
   "execution_count": 10,
   "id": "2a5d4eb8-eabd-4d1d-bcb0-6edbad13f93f",
   "metadata": {
    "jupyter": {
     "source_hidden": true
    },
    "tags": []
   },
   "outputs": [
    {
     "name": "stdout",
     "output_type": "stream",
     "text": [
      "The Optimal Revenue is: $172,140.00\n"
     ]
    }
   ],
   "source": [
    "print(f'The Optimal Revenue is: ${m.objval:,.2f}')"
   ]
  },
  {
   "cell_type": "markdown",
   "id": "c9237076-6d92-4aef-885a-7f9b7d3eec55",
   "metadata": {},
   "source": [
    "#### Part 1: Analysis"
   ]
  },
  {
   "cell_type": "markdown",
   "id": "efbc9f11-e7c5-4101-80fd-1ccb88193208",
   "metadata": {},
   "source": [
    "**Top Five Request Types in Terms of the Number of Accepted Requests in the Optimal Solution**"
   ]
  },
  {
   "cell_type": "code",
   "execution_count": 11,
   "id": "469e4fc0-5bc6-4f7d-afd0-436027eed058",
   "metadata": {},
   "outputs": [
    {
     "data": {
      "text/html": [
       "<div>\n",
       "<style scoped>\n",
       "    .dataframe tbody tr th:only-of-type {\n",
       "        vertical-align: middle;\n",
       "    }\n",
       "\n",
       "    .dataframe tbody tr th {\n",
       "        vertical-align: top;\n",
       "    }\n",
       "\n",
       "    .dataframe thead th {\n",
       "        text-align: right;\n",
       "    }\n",
       "</style>\n",
       "<table border=\"1\" class=\"dataframe\">\n",
       "  <thead>\n",
       "    <tr style=\"text-align: right;\">\n",
       "      <th></th>\n",
       "      <th>r</th>\n",
       "      <th>din</th>\n",
       "      <th>dout</th>\n",
       "      <th>probability</th>\n",
       "      <th>revenue</th>\n",
       "      <th>forecast</th>\n",
       "      <th>actual_requests</th>\n",
       "    </tr>\n",
       "  </thead>\n",
       "  <tbody>\n",
       "    <tr>\n",
       "      <th>35</th>\n",
       "      <td>K</td>\n",
       "      <td>2</td>\n",
       "      <td>3</td>\n",
       "      <td>0.037037</td>\n",
       "      <td>250.0</td>\n",
       "      <td>20.0</td>\n",
       "      <td>20.0</td>\n",
       "    </tr>\n",
       "    <tr>\n",
       "      <th>41</th>\n",
       "      <td>K</td>\n",
       "      <td>3</td>\n",
       "      <td>4</td>\n",
       "      <td>0.037037</td>\n",
       "      <td>250.0</td>\n",
       "      <td>20.0</td>\n",
       "      <td>16.0</td>\n",
       "    </tr>\n",
       "    <tr>\n",
       "      <th>46</th>\n",
       "      <td>K</td>\n",
       "      <td>4</td>\n",
       "      <td>5</td>\n",
       "      <td>0.029630</td>\n",
       "      <td>287.5</td>\n",
       "      <td>16.0</td>\n",
       "      <td>14.0</td>\n",
       "    </tr>\n",
       "    <tr>\n",
       "      <th>0</th>\n",
       "      <td>Q</td>\n",
       "      <td>1</td>\n",
       "      <td>2</td>\n",
       "      <td>0.018519</td>\n",
       "      <td>200.0</td>\n",
       "      <td>10.0</td>\n",
       "      <td>10.0</td>\n",
       "    </tr>\n",
       "    <tr>\n",
       "      <th>36</th>\n",
       "      <td>K</td>\n",
       "      <td>2</td>\n",
       "      <td>4</td>\n",
       "      <td>0.018519</td>\n",
       "      <td>500.0</td>\n",
       "      <td>10.0</td>\n",
       "      <td>10.0</td>\n",
       "    </tr>\n",
       "  </tbody>\n",
       "</table>\n",
       "</div>"
      ],
      "text/plain": [
       "    r  din  dout  probability  revenue  forecast  actual_requests\n",
       "35  K    2     3     0.037037    250.0      20.0             20.0\n",
       "41  K    3     4     0.037037    250.0      20.0             16.0\n",
       "46  K    4     5     0.029630    287.5      16.0             14.0\n",
       "0   Q    1     2     0.018519    200.0      10.0             10.0\n",
       "36  K    2     4     0.018519    500.0      10.0             10.0"
      ]
     },
     "execution_count": 11,
     "metadata": {},
     "output_type": "execute_result"
    }
   ],
   "source": [
    "for i in range(len(x)):\n",
    "    hotel_probability.at[i, 'actual_requests'] = np.round(x[i].x)\n",
    "\n",
    "hotel_probability.sort_values(['actual_requests'], ascending=False).head(5)"
   ]
  },
  {
   "cell_type": "markdown",
   "id": "8802f187-1f67-4ff8-8757-ee9d7f255b49",
   "metadata": {},
   "source": [
    "**Optimal Values of the Dual Variables for the Resource Constraints:**"
   ]
  },
  {
   "cell_type": "code",
   "execution_count": 12,
   "id": "dd79cf6f-5dde-4844-b2ae-2f96ded9512a",
   "metadata": {
    "tags": []
   },
   "outputs": [
    {
     "name": "stdout",
     "output_type": "stream",
     "text": [
      "Queen: \t\t $   860.00\n",
      "King: \t\t $   787.50\n",
      "California King: $ 1,635.00\n"
     ]
    }
   ],
   "source": [
    "print(f'Queen: \\t\\t ${sum(queen_constr[i].pi for i in range(1, 8)):>9.2f}')\n",
    "print(f'King: \\t\\t ${sum(king_constr[i].pi for i in range(1, 8)):>9.2f}')\n",
    "print(f'California King: ${sum(cali_constr[i].pi for i in range(1, 8)):>9,.2f}')"
   ]
  },
  {
   "cell_type": "markdown",
   "id": "1c45796b-b144-431b-ae71-f17ad01db083",
   "metadata": {},
   "source": [
    "**Predicted Change in Revenue by Converting 10 King Rooms Into Queen Rooms:**"
   ]
  },
  {
   "cell_type": "code",
   "execution_count": 13,
   "id": "e1bf2a13-c2a4-415e-ad2a-1a87f1687e3e",
   "metadata": {},
   "outputs": [
    {
     "name": "stdout",
     "output_type": "stream",
     "text": [
      "Predicted Change in Revenue: $725.00\n"
     ]
    }
   ],
   "source": [
    "change_in_revenue = (860 * 10) - (787.5 * 10)\n",
    "print(f'Predicted Change in Revenue: ${change_in_revenue:,.2f}')"
   ]
  },
  {
   "cell_type": "markdown",
   "id": "368f1bff-fb74-4310-ad2e-dbf35bcb7f8a",
   "metadata": {},
   "source": [
    "### Part 2: Determining an Optimal Dynamic Allocation Policy"
   ]
  },
  {
   "cell_type": "code",
   "execution_count": 14,
   "id": "f2beeba9-0467-4af9-a7bd-f43b81e6b4aa",
   "metadata": {},
   "outputs": [],
   "source": [
    "'''Generates 100 Random Sequences of T=540 Requests.'''\n",
    "\n",
    "np.random.seed(50)\n",
    "\n",
    "# Creates probability mass function\n",
    "probability_aug = np.zeros(n_requests+1)\n",
    "probability_aug[0:n_requests] = probabilities\n",
    "probability_aug[n_requests] = 1 - sum(probabilities)\n",
    "\n",
    "# Generates random sequences\n",
    "random_sequences = []\n",
    "for s in range(100):\n",
    "    arrival_sequence = np.random.choice(range(n_requests+1), T, p=probability_aug)\n",
    "    random_sequences.append(arrival_sequence)"
   ]
  },
  {
   "cell_type": "markdown",
   "id": "9035e716-0d7c-402f-84b3-cf487df1cbc2",
   "metadata": {},
   "source": [
    "**Average Revenue of First-Come First-Serve Policy Over 100 Random Sequences:**"
   ]
  },
  {
   "cell_type": "code",
   "execution_count": 15,
   "id": "ec9a72a8-6007-4507-8c26-30550e31fc7e",
   "metadata": {},
   "outputs": [
    {
     "name": "stdout",
     "output_type": "stream",
     "text": [
      "Average Myopic Revenue: $147,472\n"
     ]
    }
   ],
   "source": [
    "'''First-Come First-Serve Policy Simulation.'''\n",
    "\n",
    "nSimulations = 100\n",
    "results_myopic_revenue = np.zeros(nSimulations)\n",
    "\n",
    "for s in range(nSimulations):\n",
    "    total_revenue = 0.0\n",
    "    b = B.copy()\n",
    "    arrival_s = random_sequences[s]\n",
    "    \n",
    "    for t in range(T):\n",
    "        # Stop if there are no beds left\n",
    "        if ((b == 0).all()):\n",
    "            break\n",
    "        \n",
    "        i = arrival_s[t]\n",
    "        if (i < n_requests):\n",
    "            days_occupied = requests_to_days[i]\n",
    "            \n",
    "            if i < 28:\n",
    "                bed_index = 0\n",
    "            elif 28 <= i < 56:\n",
    "                bed_index = 1\n",
    "            else:\n",
    "                bed_index = 2\n",
    "            \n",
    "            # If there is an open bed for each day this request occupies...\n",
    "            accept = True\n",
    "            for day in days_occupied:\n",
    "                if b[day-1][bed_index] < 1:\n",
    "                    accept = False\n",
    "            \n",
    "            if accept == True:\n",
    "                # ... then accept the request!\n",
    "                for day in days_occupied:\n",
    "                    b[day-1][bed_index] -= 1\n",
    "                \n",
    "                total_revenue += revenues[i]\n",
    "    \n",
    "    results_myopic_revenue[s] = total_revenue\n",
    "\n",
    "avg_myopic_revenue = results_myopic_revenue.mean()\n",
    "print(f'Average Myopic Revenue: ${avg_myopic_revenue:,.0f}')"
   ]
  },
  {
   "cell_type": "markdown",
   "id": "2e7badca-0959-4227-bfcd-c517e955c66a",
   "metadata": {},
   "source": [
    "**Average Revenue of Dynamic Allocation Policy Over 100 Random Sequences:**"
   ]
  },
  {
   "cell_type": "code",
   "execution_count": 16,
   "id": "3e84a989-e351-418b-88e9-953cd9aa35ff",
   "metadata": {},
   "outputs": [],
   "source": [
    "def bpc(b, t):\n",
    "    '''Repeatedly solves the LP at different periods with\n",
    "       different numbers of remaining beds.'''\n",
    "        \n",
    "    for day in range(1, n_days+1):\n",
    "        queen_constr[day].rhs = b[day-1][0]\n",
    "        king_constr[day].rhs = b[day-1][1]\n",
    "        cali_constr[day].rhs = b[day-1][2]\n",
    "    \n",
    "    for i in range(n_requests):\n",
    "        x[i].ub = (T - t) * probabilities[i]\n",
    "    \n",
    "    m.update()\n",
    "    m.optimize()\n",
    "\n",
    "    dual_vals = [[bed[day].pi for bed in [queen_constr, king_constr, cali_constr]] for day in range(1, 8)]\n",
    "\n",
    "    return dual_vals"
   ]
  },
  {
   "cell_type": "code",
   "execution_count": 17,
   "id": "a269e926-9883-4b32-a981-dc395cdd0564",
   "metadata": {},
   "outputs": [
    {
     "name": "stdout",
     "output_type": "stream",
     "text": [
      "Average Revenue: $163,636.08\n"
     ]
    }
   ],
   "source": [
    "'''Optimization: Accepts/Rejects Requests Using Dynamic Allocation Policy.'''\n",
    "\n",
    "results_revenue = np.zeros(nSimulations)\n",
    "for s in range(nSimulations):\n",
    "    total_revenue = 0.0\n",
    "    b = B.copy()\n",
    "    arrival_s = random_sequences[s]\n",
    "    \n",
    "    for t in range(T):\n",
    "        # Stop if there are no beds left\n",
    "        if ((b == 0).all()):\n",
    "            break\n",
    "        \n",
    "        i = arrival_s[t]\n",
    "        if (i < n_requests):\n",
    "            dual_vals = bpc(b, t)\n",
    "            days_occupied = requests_to_days[i]\n",
    "            \n",
    "            if i < 28:\n",
    "                bed_index = 0\n",
    "            elif 28 <= i < 56:\n",
    "                bed_index = 1\n",
    "            else:\n",
    "                bed_index = 2\n",
    "            \n",
    "            # Computes the total bid price of the request\n",
    "            total_bid_price = sum([dual_vals[day-1][bed_index] for day in days_occupied])\n",
    "            \n",
    "            # If the revenue is at least the total bid price, and there is at least one open bed for each day ...\n",
    "            if revenues[i] >= total_bid_price:\n",
    "                accept = True\n",
    "                for day in days_occupied:\n",
    "                    if b[day-1][bed_index] < 1:\n",
    "                        accept = False\n",
    "                        break\n",
    "            else:\n",
    "                accept = False\n",
    "            \n",
    "            if accept == True:\n",
    "                # ... then accept the request!\n",
    "                for day in days_occupied:\n",
    "                    b[day-1][bed_index] -= 1\n",
    "                \n",
    "                total_revenue += revenues[i]\n",
    "                \n",
    "    results_revenue[s] = total_revenue\n",
    "\n",
    "avg_revenue = results_revenue.mean()\n",
    "\n",
    "print(f'Average Revenue: ${avg_revenue:,.2f}')"
   ]
  },
  {
   "cell_type": "markdown",
   "id": "30961061-c501-479a-8adb-6833107fd73c",
   "metadata": {},
   "source": [
    "**Dynamic Allocation Policy vs. Hotel’s Current Policy:**"
   ]
  },
  {
   "cell_type": "code",
   "execution_count": 18,
   "id": "26abacac-f89c-4366-8772-5a80ed8d6cd8",
   "metadata": {},
   "outputs": [
    {
     "data": {
      "text/html": [
       "<div>\n",
       "<style scoped>\n",
       "    .dataframe tbody tr th:only-of-type {\n",
       "        vertical-align: middle;\n",
       "    }\n",
       "\n",
       "    .dataframe tbody tr th {\n",
       "        vertical-align: top;\n",
       "    }\n",
       "\n",
       "    .dataframe thead th {\n",
       "        text-align: right;\n",
       "    }\n",
       "</style>\n",
       "<table border=\"1\" class=\"dataframe\">\n",
       "  <thead>\n",
       "    <tr style=\"text-align: right;\">\n",
       "      <th></th>\n",
       "      <th>r</th>\n",
       "      <th>din</th>\n",
       "      <th>dout</th>\n",
       "      <th>probability</th>\n",
       "      <th>revenue</th>\n",
       "      <th>forecast</th>\n",
       "      <th>actual_requests</th>\n",
       "    </tr>\n",
       "  </thead>\n",
       "  <tbody>\n",
       "    <tr>\n",
       "      <th>13</th>\n",
       "      <td>Q</td>\n",
       "      <td>3</td>\n",
       "      <td>4</td>\n",
       "      <td>0.074074</td>\n",
       "      <td>200.0</td>\n",
       "      <td>40.0</td>\n",
       "      <td>0.0</td>\n",
       "    </tr>\n",
       "    <tr>\n",
       "      <th>35</th>\n",
       "      <td>K</td>\n",
       "      <td>2</td>\n",
       "      <td>3</td>\n",
       "      <td>0.037037</td>\n",
       "      <td>250.0</td>\n",
       "      <td>20.0</td>\n",
       "      <td>20.0</td>\n",
       "    </tr>\n",
       "    <tr>\n",
       "      <th>41</th>\n",
       "      <td>K</td>\n",
       "      <td>3</td>\n",
       "      <td>4</td>\n",
       "      <td>0.037037</td>\n",
       "      <td>250.0</td>\n",
       "      <td>20.0</td>\n",
       "      <td>16.0</td>\n",
       "    </tr>\n",
       "    <tr>\n",
       "      <th>8</th>\n",
       "      <td>Q</td>\n",
       "      <td>2</td>\n",
       "      <td>4</td>\n",
       "      <td>0.037037</td>\n",
       "      <td>400.0</td>\n",
       "      <td>20.0</td>\n",
       "      <td>6.0</td>\n",
       "    </tr>\n",
       "    <tr>\n",
       "      <th>46</th>\n",
       "      <td>K</td>\n",
       "      <td>4</td>\n",
       "      <td>5</td>\n",
       "      <td>0.029630</td>\n",
       "      <td>287.5</td>\n",
       "      <td>16.0</td>\n",
       "      <td>14.0</td>\n",
       "    </tr>\n",
       "    <tr>\n",
       "      <th>22</th>\n",
       "      <td>Q</td>\n",
       "      <td>5</td>\n",
       "      <td>6</td>\n",
       "      <td>0.022222</td>\n",
       "      <td>230.0</td>\n",
       "      <td>12.0</td>\n",
       "      <td>6.0</td>\n",
       "    </tr>\n",
       "    <tr>\n",
       "      <th>9</th>\n",
       "      <td>Q</td>\n",
       "      <td>2</td>\n",
       "      <td>5</td>\n",
       "      <td>0.018519</td>\n",
       "      <td>630.0</td>\n",
       "      <td>10.0</td>\n",
       "      <td>6.0</td>\n",
       "    </tr>\n",
       "    <tr>\n",
       "      <th>36</th>\n",
       "      <td>K</td>\n",
       "      <td>2</td>\n",
       "      <td>4</td>\n",
       "      <td>0.018519</td>\n",
       "      <td>500.0</td>\n",
       "      <td>10.0</td>\n",
       "      <td>10.0</td>\n",
       "    </tr>\n",
       "    <tr>\n",
       "      <th>64</th>\n",
       "      <td>C</td>\n",
       "      <td>2</td>\n",
       "      <td>4</td>\n",
       "      <td>0.018519</td>\n",
       "      <td>600.0</td>\n",
       "      <td>10.0</td>\n",
       "      <td>0.0</td>\n",
       "    </tr>\n",
       "    <tr>\n",
       "      <th>0</th>\n",
       "      <td>Q</td>\n",
       "      <td>1</td>\n",
       "      <td>2</td>\n",
       "      <td>0.018519</td>\n",
       "      <td>200.0</td>\n",
       "      <td>10.0</td>\n",
       "      <td>10.0</td>\n",
       "    </tr>\n",
       "  </tbody>\n",
       "</table>\n",
       "</div>"
      ],
      "text/plain": [
       "    r  din  dout  probability  revenue  forecast  actual_requests\n",
       "13  Q    3     4     0.074074    200.0      40.0              0.0\n",
       "35  K    2     3     0.037037    250.0      20.0             20.0\n",
       "41  K    3     4     0.037037    250.0      20.0             16.0\n",
       "8   Q    2     4     0.037037    400.0      20.0              6.0\n",
       "46  K    4     5     0.029630    287.5      16.0             14.0\n",
       "22  Q    5     6     0.022222    230.0      12.0              6.0\n",
       "9   Q    2     5     0.018519    630.0      10.0              6.0\n",
       "36  K    2     4     0.018519    500.0      10.0             10.0\n",
       "64  C    2     4     0.018519    600.0      10.0              0.0\n",
       "0   Q    1     2     0.018519    200.0      10.0             10.0"
      ]
     },
     "execution_count": 18,
     "metadata": {},
     "output_type": "execute_result"
    }
   ],
   "source": [
    "hotel_probability.sort_values(['probability'], ascending=False).head(10)"
   ]
  },
  {
   "cell_type": "markdown",
   "id": "5778acc6-71df-477e-91df-dee4068ad273",
   "metadata": {},
   "source": [
    "* The dynamic allocation policy performs better than the first-come first-serve model because the request types with the highest probability are not necessarily the request types that will yield the highest long-term revenue.\n",
    "\n",
    "* For example, the highest-probability requests tend to be single- or double-night stays. Let’s assume we immediately accept 50 single-night queen room requests for Day 1. We may find that later, we may get a request for a Queen room for days 1-5. However, we will not be able to accept this request because we no longer have any queen beds available for day 1. We are therefore potentially missing out on accepting requests for days 2-5 in this example due to a lack of available queen beds for day 1.\n",
    "\n",
    "* The dynamic allocation policy ultimately accounts for the opportunity cost, or the expected loss in future revenue from scheduling that room type now. By accepting the request only if the revenue exceeds this opportunity cost, we are creating a more optimal model than the first-come first-serve model."
   ]
  }
 ],
 "metadata": {
  "kernelspec": {
   "display_name": "Python 3 (ipykernel)",
   "language": "python",
   "name": "python3"
  },
  "language_info": {
   "codemirror_mode": {
    "name": "ipython",
    "version": 3
   },
   "file_extension": ".py",
   "mimetype": "text/x-python",
   "name": "python",
   "nbconvert_exporter": "python",
   "pygments_lexer": "ipython3",
   "version": "3.9.5"
  }
 },
 "nbformat": 4,
 "nbformat_minor": 5
}
