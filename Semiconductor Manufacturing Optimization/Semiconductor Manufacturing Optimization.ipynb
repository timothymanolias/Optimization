{
 "cells": [
  {
   "cell_type": "markdown",
   "id": "e86af7d6-b083-422b-b51a-48315f89b785",
   "metadata": {
    "tags": []
   },
   "source": [
    "# Semiconductor Manufacturing Optimization (Timothy Manolias)\n",
    "\n",
    "### The following program determines the optimal amount of semiconductor chips a semiconductor manufacturing plant should produce in order to maximize revenue, given constraints pertaining to each type of chip that can be produced."
   ]
  },
  {
   "cell_type": "code",
   "execution_count": 1,
   "id": "2ce8ebf8-852c-4553-a023-a122acfb7c04",
   "metadata": {
    "jupyter": {
     "source_hidden": true
    },
    "tags": []
   },
   "outputs": [
    {
     "data": {
      "text/html": [
       "<img src=\"Images/Question.png\" width=\"700\"/>"
      ],
      "text/plain": [
       "<IPython.core.display.Image object>"
      ]
     },
     "execution_count": 1,
     "metadata": {},
     "output_type": "execute_result"
    }
   ],
   "source": [
    "from IPython.display import Image\n",
    "from IPython.core.display import HTML\n",
    "\n",
    "Image(url='Images/Question.png', width=700)"
   ]
  },
  {
   "cell_type": "markdown",
   "id": "4e5b6188-2891-4364-8a23-ce873c82a16e",
   "metadata": {},
   "source": [
    "## Solution"
   ]
  },
  {
   "cell_type": "markdown",
   "id": "55c5c31e-1d16-47bb-b47c-2a32ce710134",
   "metadata": {},
   "source": [
    "### Part 1: Linear Program Formulation"
   ]
  },
  {
   "cell_type": "code",
   "execution_count": 2,
   "id": "eab66038-9538-4c58-87ec-3f1c02297f85",
   "metadata": {
    "jupyter": {
     "source_hidden": true
    },
    "tags": []
   },
   "outputs": [
    {
     "data": {
      "text/html": [
       "<img src=\"Images/Linear_Program_Formulation.png\" width=\"400\"/>"
      ],
      "text/plain": [
       "<IPython.core.display.Image object>"
      ]
     },
     "execution_count": 2,
     "metadata": {},
     "output_type": "execute_result"
    }
   ],
   "source": [
    "Image(url='Images/Linear_Program_Formulation.png', width=400)"
   ]
  },
  {
   "cell_type": "code",
   "execution_count": 4,
   "id": "96477f49-045f-41bb-aeb4-671027d0cff0",
   "metadata": {},
   "outputs": [],
   "source": [
    "'''Implements Linear Program Listed Above Using Gurobi Optimizer.'''\n",
    "\n",
    "from gurobipy import *\n",
    "\n",
    "# Creates the model\n",
    "m = Model()\n",
    "\n",
    "# Suppresses output\n",
    "m.Params.outputflag = 0\n",
    "\n",
    "# Adds the decision variables\n",
    "x_1 = m.addVar()\n",
    "x_2 = m.addVar()\n",
    "x_3 = m.addVar()\n",
    "\n",
    "# Creates the constraints\n",
    "ge_constr   =  m.addConstr(14*x_1 + 20*x_2 + 40*x_3  <=  300)\n",
    "si_constr   =  m.addConstr(30*x_1 + 20*x_2 + 15*x_3  <=  500)\n",
    "time_constr =  m.addConstr(20*x_1 + 30*x_2 + 50*x_3  <= 1080)\n",
    "\n",
    "# Creates the objective function [maximize revenue]\n",
    "m.setObjective(500*x_1 + 800*x_2 + 1000*x_3, GRB.MAXIMIZE)\n",
    "\n",
    "m.update()\n",
    "m.optimize()"
   ]
  },
  {
   "cell_type": "code",
   "execution_count": 5,
   "id": "16996fce-5376-4540-a91d-2a438cce53e7",
   "metadata": {},
   "outputs": [
    {
     "name": "stdout",
     "output_type": "stream",
     "text": [
      "Solved to Optimality!\n",
      "\n",
      "Optimal Objective Value: $12,000.00\n"
     ]
    }
   ],
   "source": [
    "'''Extracts Solution Status and Optimal Objective Value.'''\n",
    "\n",
    "# Solution status\n",
    "status = m.status\n",
    "if status == GRB.OPTIMAL:\n",
    "    print('Solved to Optimality!')\n",
    "\n",
    "# Objective value\n",
    "optimal_obj = m.objval\n",
    "print(f'\\nOptimal Objective Value: ${optimal_obj:,.2f}')"
   ]
  },
  {
   "cell_type": "code",
   "execution_count": 6,
   "id": "50e8160a-543e-4590-8eec-ee78beb7b29a",
   "metadata": {},
   "outputs": [
    {
     "name": "stdout",
     "output_type": "stream",
     "text": [
      "Chip 1 Amount:  0.0\n",
      "Chip 2 Amount: 15.0\n",
      "Chip 3 Amount:  0.0\n"
     ]
    }
   ],
   "source": [
    "'''Extracts Optimal Values of Decision Variables.'''\n",
    "\n",
    "chip_1_value = x_1.x\n",
    "chip_2_value = x_2.x\n",
    "chip_3_value = x_3.x\n",
    "\n",
    "print(f'Chip 1 Amount: {chip_1_value:>4}')\n",
    "print(f'Chip 2 Amount: {chip_2_value:>4}')\n",
    "print(f'Chip 3 Amount: {chip_3_value:>4}')"
   ]
  },
  {
   "cell_type": "markdown",
   "id": "779dac6e-962c-446a-ac1f-837731a06cec",
   "metadata": {},
   "source": [
    "### Part 2: Dual Formulation"
   ]
  },
  {
   "cell_type": "code",
   "execution_count": 7,
   "id": "e2ccfd03-198e-496d-a72e-f2485a00f7d8",
   "metadata": {
    "jupyter": {
     "source_hidden": true
    },
    "tags": []
   },
   "outputs": [
    {
     "data": {
      "text/html": [
       "<img src=\"Images/Dual_Formulation.png\" width=\"400\"/>"
      ],
      "text/plain": [
       "<IPython.core.display.Image object>"
      ]
     },
     "execution_count": 7,
     "metadata": {},
     "output_type": "execute_result"
    }
   ],
   "source": [
    "Image(url='Images/Dual_Formulation.png', width=400)"
   ]
  },
  {
   "cell_type": "code",
   "execution_count": 8,
   "id": "464fc8d6-f4a7-45d3-b9fd-d47a86e64304",
   "metadata": {},
   "outputs": [],
   "source": [
    "'''Implements Dual Formation Listed Above.'''\n",
    "\n",
    "# Creates the model\n",
    "m_dual = Model()\n",
    "\n",
    "# Prevents output\n",
    "m_dual.Params.outputflag = 0\n",
    "\n",
    "# Adds the decision variables\n",
    "p_g = m_dual.addVar()\n",
    "p_s = m_dual.addVar()\n",
    "p_t = m_dual.addVar()\n",
    "\n",
    "# Creates the dual constraints\n",
    "m_dual.addConstr(14*p_g + 30*p_s + 20*p_t >=  500)\n",
    "m_dual.addConstr(20*p_g + 20*p_s + 30*p_t >=  800)\n",
    "m_dual.addConstr(40*p_g + 15*p_s + 50*p_t >= 1000)\n",
    "\n",
    "# Creates the objective function\n",
    "m_dual.setObjective(300*p_g + 500*p_s + 1080*p_t, GRB.MINIMIZE)\n",
    "\n",
    "m_dual.update()\n",
    "m_dual.optimize()"
   ]
  },
  {
   "cell_type": "code",
   "execution_count": 9,
   "id": "013c6137-fb87-4c8a-90bc-b6180ef5454f",
   "metadata": {},
   "outputs": [
    {
     "name": "stdout",
     "output_type": "stream",
     "text": [
      "Solved to Optimality!\n",
      "\n",
      "Dual Optimal Objective: $12,000.00\n"
     ]
    }
   ],
   "source": [
    "'''Extracts Solution Status and Dual Optimal Objective Value.'''\n",
    "\n",
    "# Solution status\n",
    "status = m_dual.status\n",
    "if status == GRB.OPTIMAL:\n",
    "    print('Solved to Optimality!')\n",
    "    \n",
    "# Dual optimal objective value\n",
    "dual_optimal_obj = m_dual.objval\n",
    "print(f'\\nDual Optimal Objective: ${dual_optimal_obj:,.2f}')"
   ]
  },
  {
   "cell_type": "code",
   "execution_count": 10,
   "id": "37bdf529-bfbb-42a5-a72d-708cdc4c5d35",
   "metadata": {},
   "outputs": [
    {
     "name": "stdout",
     "output_type": "stream",
     "text": [
      "Dual Variable for GE Transistors: 40.0\n",
      "Dual Variable for SI Transistors:  0.0\n",
      "Dual Variable for Time Available:  0.0\n"
     ]
    }
   ],
   "source": [
    "'''Extracts Optimal Values of Decision Variables.'''\n",
    "\n",
    "p_g_value = p_g.x\n",
    "p_s_value = p_s.x\n",
    "p_t_value = p_t.x\n",
    "\n",
    "print(f'Dual Variable for GE Transistors: {p_g_value:>4}')\n",
    "print(f'Dual Variable for SI Transistors: {p_s_value:>4}')\n",
    "print(f'Dual Variable for Time Available: {p_t_value:>4}')"
   ]
  }
 ],
 "metadata": {
  "kernelspec": {
   "display_name": "Python 3 (ipykernel)",
   "language": "python",
   "name": "python3"
  },
  "language_info": {
   "codemirror_mode": {
    "name": "ipython",
    "version": 3
   },
   "file_extension": ".py",
   "mimetype": "text/x-python",
   "name": "python",
   "nbconvert_exporter": "python",
   "pygments_lexer": "ipython3",
   "version": "3.9.5"
  }
 },
 "nbformat": 4,
 "nbformat_minor": 5
}
