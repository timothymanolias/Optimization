{
 "cells": [
  {
   "cell_type": "markdown",
   "id": "fd93c506-8bc1-497e-acc1-765c2bc062c0",
   "metadata": {
    "tags": []
   },
   "source": [
    "# Assortment Optimization: Designing A Sushi Menu (Timothy Manolias)\n",
    "\n",
    "### The following program uses assortment optimization to determine which sushis should be offered at a restaurant to maximize revenue, based on customer preference data."
   ]
  },
  {
   "cell_type": "code",
   "execution_count": 1,
   "id": "4c1fb8c8-271b-4864-bd03-6bba186e4abf",
   "metadata": {
    "jupyter": {
     "source_hidden": true
    },
    "tags": []
   },
   "outputs": [
    {
     "data": {
      "text/html": [
       "<img src=\"Images/Question.png\" width=\"700\"/>"
      ],
      "text/plain": [
       "<IPython.core.display.Image object>"
      ]
     },
     "execution_count": 1,
     "metadata": {},
     "output_type": "execute_result"
    }
   ],
   "source": [
    "from IPython.display import Image\n",
    "from IPython.core.display import HTML\n",
    "\n",
    "Image(url='Images/Question.png', width=700)"
   ]
  },
  {
   "cell_type": "code",
   "execution_count": 2,
   "id": "fa539eff-6fbf-45eb-91ef-216a74574532",
   "metadata": {},
   "outputs": [],
   "source": [
    "'''Imports Data & Libraries.'''\n",
    "\n",
    "from gurobipy import *\n",
    "import pandas as pd\n",
    "import numpy as np\n",
    "\n",
    "sushi_ratings = pd.read_csv('Data/sushi_utilities_mat.csv', header=None)\n",
    "\n",
    "sushi_names = pd.read_csv('Data/sushi_info.csv', header=None)\n",
    "sushi_names.columns = ['name', 'category', 'price']\n",
    "\n",
    "sushi_descriptions = pd.read_csv('Data/sushi_descriptions.csv', header=None)\n",
    "sushi_descriptions.columns = ['name', 'description']"
   ]
  },
  {
   "cell_type": "code",
   "execution_count": 3,
   "id": "c2b116db-6b56-4aa5-a8d1-d32d41fb6738",
   "metadata": {},
   "outputs": [
    {
     "data": {
      "text/html": [
       "<div>\n",
       "<style scoped>\n",
       "    .dataframe tbody tr th:only-of-type {\n",
       "        vertical-align: middle;\n",
       "    }\n",
       "\n",
       "    .dataframe tbody tr th {\n",
       "        vertical-align: top;\n",
       "    }\n",
       "\n",
       "    .dataframe thead th {\n",
       "        text-align: right;\n",
       "    }\n",
       "</style>\n",
       "<table border=\"1\" class=\"dataframe\">\n",
       "  <thead>\n",
       "    <tr style=\"text-align: right;\">\n",
       "      <th></th>\n",
       "      <th>name</th>\n",
       "      <th>category</th>\n",
       "      <th>price</th>\n",
       "    </tr>\n",
       "  </thead>\n",
       "  <tbody>\n",
       "    <tr>\n",
       "      <th>0</th>\n",
       "      <td>ebi</td>\n",
       "      <td>6</td>\n",
       "      <td>14.71</td>\n",
       "    </tr>\n",
       "    <tr>\n",
       "      <th>1</th>\n",
       "      <td>anago</td>\n",
       "      <td>3</td>\n",
       "      <td>15.94</td>\n",
       "    </tr>\n",
       "    <tr>\n",
       "      <th>2</th>\n",
       "      <td>maguro</td>\n",
       "      <td>1</td>\n",
       "      <td>15.00</td>\n",
       "    </tr>\n",
       "    <tr>\n",
       "      <th>3</th>\n",
       "      <td>ika</td>\n",
       "      <td>5</td>\n",
       "      <td>12.12</td>\n",
       "    </tr>\n",
       "    <tr>\n",
       "      <th>4</th>\n",
       "      <td>uni</td>\n",
       "      <td>8</td>\n",
       "      <td>26.30</td>\n",
       "    </tr>\n",
       "  </tbody>\n",
       "</table>\n",
       "</div>"
      ],
      "text/plain": [
       "     name  category  price\n",
       "0     ebi         6  14.71\n",
       "1   anago         3  15.94\n",
       "2  maguro         1  15.00\n",
       "3     ika         5  12.12\n",
       "4     uni         8  26.30"
      ]
     },
     "execution_count": 3,
     "metadata": {},
     "output_type": "execute_result"
    }
   ],
   "source": [
    "sushi_names.head()"
   ]
  },
  {
   "cell_type": "code",
   "execution_count": 4,
   "id": "4a25803b-fec2-4152-97b0-4c2f49dde1b6",
   "metadata": {},
   "outputs": [
    {
     "data": {
      "text/html": [
       "<div>\n",
       "<style scoped>\n",
       "    .dataframe tbody tr th:only-of-type {\n",
       "        vertical-align: middle;\n",
       "    }\n",
       "\n",
       "    .dataframe tbody tr th {\n",
       "        vertical-align: top;\n",
       "    }\n",
       "\n",
       "    .dataframe thead th {\n",
       "        text-align: right;\n",
       "    }\n",
       "</style>\n",
       "<table border=\"1\" class=\"dataframe\">\n",
       "  <thead>\n",
       "    <tr style=\"text-align: right;\">\n",
       "      <th></th>\n",
       "      <th>0</th>\n",
       "      <th>1</th>\n",
       "      <th>2</th>\n",
       "      <th>3</th>\n",
       "      <th>4</th>\n",
       "      <th>5</th>\n",
       "      <th>6</th>\n",
       "      <th>7</th>\n",
       "      <th>8</th>\n",
       "      <th>9</th>\n",
       "      <th>...</th>\n",
       "      <th>90</th>\n",
       "      <th>91</th>\n",
       "      <th>92</th>\n",
       "      <th>93</th>\n",
       "      <th>94</th>\n",
       "      <th>95</th>\n",
       "      <th>96</th>\n",
       "      <th>97</th>\n",
       "      <th>98</th>\n",
       "      <th>99</th>\n",
       "    </tr>\n",
       "  </thead>\n",
       "  <tbody>\n",
       "    <tr>\n",
       "      <th>0</th>\n",
       "      <td>2.587382</td>\n",
       "      <td>1.735096</td>\n",
       "      <td>2.805784</td>\n",
       "      <td>2.808497</td>\n",
       "      <td>2.051500</td>\n",
       "      <td>2.530000</td>\n",
       "      <td>2.262429</td>\n",
       "      <td>2.189008</td>\n",
       "      <td>2.512121</td>\n",
       "      <td>2.695214</td>\n",
       "      <td>...</td>\n",
       "      <td>1.584592</td>\n",
       "      <td>2.261775</td>\n",
       "      <td>1.384078</td>\n",
       "      <td>1.302735</td>\n",
       "      <td>1.617816</td>\n",
       "      <td>2.145763</td>\n",
       "      <td>2.030173</td>\n",
       "      <td>1.361016</td>\n",
       "      <td>1.624062</td>\n",
       "      <td>1.548308</td>\n",
       "    </tr>\n",
       "    <tr>\n",
       "      <th>1</th>\n",
       "      <td>1.729766</td>\n",
       "      <td>1.470804</td>\n",
       "      <td>1.468309</td>\n",
       "      <td>1.378944</td>\n",
       "      <td>0.833270</td>\n",
       "      <td>1.100750</td>\n",
       "      <td>0.577461</td>\n",
       "      <td>1.241744</td>\n",
       "      <td>0.782385</td>\n",
       "      <td>1.782568</td>\n",
       "      <td>...</td>\n",
       "      <td>0.592737</td>\n",
       "      <td>1.086077</td>\n",
       "      <td>-0.257822</td>\n",
       "      <td>-0.403802</td>\n",
       "      <td>0.581268</td>\n",
       "      <td>1.015560</td>\n",
       "      <td>0.851418</td>\n",
       "      <td>0.275960</td>\n",
       "      <td>0.420321</td>\n",
       "      <td>0.308964</td>\n",
       "    </tr>\n",
       "    <tr>\n",
       "      <th>2</th>\n",
       "      <td>3.344767</td>\n",
       "      <td>3.302255</td>\n",
       "      <td>3.846140</td>\n",
       "      <td>3.076611</td>\n",
       "      <td>3.027984</td>\n",
       "      <td>2.617583</td>\n",
       "      <td>3.186150</td>\n",
       "      <td>2.706815</td>\n",
       "      <td>3.890304</td>\n",
       "      <td>3.457028</td>\n",
       "      <td>...</td>\n",
       "      <td>1.659859</td>\n",
       "      <td>2.554965</td>\n",
       "      <td>1.323442</td>\n",
       "      <td>1.366464</td>\n",
       "      <td>1.681589</td>\n",
       "      <td>1.964062</td>\n",
       "      <td>2.242885</td>\n",
       "      <td>1.439764</td>\n",
       "      <td>1.685639</td>\n",
       "      <td>1.734439</td>\n",
       "    </tr>\n",
       "    <tr>\n",
       "      <th>3</th>\n",
       "      <td>3.382407</td>\n",
       "      <td>3.338540</td>\n",
       "      <td>3.465177</td>\n",
       "      <td>2.537292</td>\n",
       "      <td>3.679260</td>\n",
       "      <td>2.213637</td>\n",
       "      <td>3.441076</td>\n",
       "      <td>2.650789</td>\n",
       "      <td>4.027575</td>\n",
       "      <td>3.485529</td>\n",
       "      <td>...</td>\n",
       "      <td>2.374736</td>\n",
       "      <td>2.673804</td>\n",
       "      <td>1.914855</td>\n",
       "      <td>2.090422</td>\n",
       "      <td>2.389358</td>\n",
       "      <td>2.538216</td>\n",
       "      <td>2.459458</td>\n",
       "      <td>2.323644</td>\n",
       "      <td>2.076592</td>\n",
       "      <td>2.329594</td>\n",
       "    </tr>\n",
       "    <tr>\n",
       "      <th>4</th>\n",
       "      <td>2.774192</td>\n",
       "      <td>1.930653</td>\n",
       "      <td>2.026012</td>\n",
       "      <td>2.033315</td>\n",
       "      <td>1.617532</td>\n",
       "      <td>1.870940</td>\n",
       "      <td>2.167780</td>\n",
       "      <td>1.810621</td>\n",
       "      <td>1.830054</td>\n",
       "      <td>2.701257</td>\n",
       "      <td>...</td>\n",
       "      <td>1.281234</td>\n",
       "      <td>1.609595</td>\n",
       "      <td>1.244307</td>\n",
       "      <td>1.348403</td>\n",
       "      <td>1.132644</td>\n",
       "      <td>1.507787</td>\n",
       "      <td>1.473952</td>\n",
       "      <td>1.081278</td>\n",
       "      <td>1.163032</td>\n",
       "      <td>1.054110</td>\n",
       "    </tr>\n",
       "  </tbody>\n",
       "</table>\n",
       "<p>5 rows × 100 columns</p>\n",
       "</div>"
      ],
      "text/plain": [
       "         0         1         2         3         4         5         6   \\\n",
       "0  2.587382  1.735096  2.805784  2.808497  2.051500  2.530000  2.262429   \n",
       "1  1.729766  1.470804  1.468309  1.378944  0.833270  1.100750  0.577461   \n",
       "2  3.344767  3.302255  3.846140  3.076611  3.027984  2.617583  3.186150   \n",
       "3  3.382407  3.338540  3.465177  2.537292  3.679260  2.213637  3.441076   \n",
       "4  2.774192  1.930653  2.026012  2.033315  1.617532  1.870940  2.167780   \n",
       "\n",
       "         7         8         9   ...        90        91        92        93  \\\n",
       "0  2.189008  2.512121  2.695214  ...  1.584592  2.261775  1.384078  1.302735   \n",
       "1  1.241744  0.782385  1.782568  ...  0.592737  1.086077 -0.257822 -0.403802   \n",
       "2  2.706815  3.890304  3.457028  ...  1.659859  2.554965  1.323442  1.366464   \n",
       "3  2.650789  4.027575  3.485529  ...  2.374736  2.673804  1.914855  2.090422   \n",
       "4  1.810621  1.830054  2.701257  ...  1.281234  1.609595  1.244307  1.348403   \n",
       "\n",
       "         94        95        96        97        98        99  \n",
       "0  1.617816  2.145763  2.030173  1.361016  1.624062  1.548308  \n",
       "1  0.581268  1.015560  0.851418  0.275960  0.420321  0.308964  \n",
       "2  1.681589  1.964062  2.242885  1.439764  1.685639  1.734439  \n",
       "3  2.389358  2.538216  2.459458  2.323644  2.076592  2.329594  \n",
       "4  1.132644  1.507787  1.473952  1.081278  1.163032  1.054110  \n",
       "\n",
       "[5 rows x 100 columns]"
      ]
     },
     "execution_count": 4,
     "metadata": {},
     "output_type": "execute_result"
    }
   ],
   "source": [
    "sushi_ratings.head()"
   ]
  },
  {
   "cell_type": "markdown",
   "id": "4aa9765e-c7f0-442d-8cea-79f269c857ef",
   "metadata": {
    "tags": []
   },
   "source": [
    "### Integer Optimization Model"
   ]
  },
  {
   "cell_type": "code",
   "execution_count": 5,
   "id": "a2067d59-40af-461e-a0ad-8d334d5deea5",
   "metadata": {
    "jupyter": {
     "source_hidden": true
    },
    "tags": []
   },
   "outputs": [
    {
     "data": {
      "text/html": [
       "<img src=\"Images/Linear_Program_Formulation.png\" width=\"500\"/>"
      ],
      "text/plain": [
       "<IPython.core.display.Image object>"
      ]
     },
     "execution_count": 5,
     "metadata": {},
     "output_type": "execute_result"
    }
   ],
   "source": [
    "Image(url='Images/Linear_Program_Formulation.png', width=500)"
   ]
  },
  {
   "cell_type": "markdown",
   "id": "fb366e80-863e-4832-a5a6-ec9180a2a1b7",
   "metadata": {},
   "source": [
    "**1B)** This constraint ensures that each customer chooses one sushi option.\n",
    "\n",
    "**1C)** This constraint ensures that the chosen sushi for each customer has a utility that is\n",
    "greater than or equal to any of the utilities of the available sushis.\n",
    "\n",
    "**1D)** This constraint ensures that the customer chooses a sushi that has a utility that is\n",
    "greater than or equal to the competitor’s sushi option.\n",
    "\n",
    "**1E)** This constraint ensures that the customer can only choose a sushi out of the available sushi options provided.\n",
    "\n",
    "**1F)** This constraint ensures the sushi selection variable is a binary decision variable.\n",
    "\n",
    "**1G)** This constraint ensures the customer selection variable is a binary decision variable."
   ]
  },
  {
   "cell_type": "code",
   "execution_count": 6,
   "id": "6210e15d-8ff0-4072-a1ef-f2a1318a124a",
   "metadata": {},
   "outputs": [],
   "source": [
    "'''Obtains Sushi Ratings and Sushi Prices.'''\n",
    "\n",
    "nSushis = sushi_ratings.shape[1]\n",
    "nCustomers = sushi_ratings.shape[0]\n",
    "\n",
    "# Adds in no_purchase conditions\n",
    "sushi_names.at[nSushis] = ('no_purchase', None, 0)\n",
    "sushi_ratings[nSushis] = 3.0\n",
    "\n",
    "revenues = sushi_names['price'].to_list()\n",
    "sushi_ratings_mat = np.asarray(sushi_ratings)"
   ]
  },
  {
   "cell_type": "code",
   "execution_count": 7,
   "id": "c4d28342-8108-4e08-b2a1-7bee34fcc7f8",
   "metadata": {},
   "outputs": [],
   "source": [
    "def expected_revenue(S):\n",
    "    # Creates dataframe with specified attributes\n",
    "    S2 = np.append(S, nSushis)\n",
    "    temp_sushi_ratings = sushi_ratings[S2].copy()\n",
    "    \n",
    "    # Calculates expected revenue, given each customer's max utility\n",
    "    customer_revenue = pd.DataFrame(columns=['expected_revenue'])\n",
    "    for i, customer in temp_sushi_ratings.iterrows():\n",
    "        max__util_ind = temp_sushi_ratings.iloc[i].idxmax()\n",
    "        customer_revenue.at[i, 'expected_revenue'] = sushi_names.iloc[max__util_ind]['price']\n",
    "        \n",
    "    return customer_revenue.mean()"
   ]
  },
  {
   "cell_type": "markdown",
   "id": "bb90663e-dfcc-4ff4-b772-26f3dc0a825d",
   "metadata": {},
   "source": [
    "The relaxation is obtained by relaxing x and y to be continuous decision variables as opposed to binary decision variables:"
   ]
  },
  {
   "cell_type": "code",
   "execution_count": 8,
   "id": "1b4cd4a9-3f09-4dcd-b6d9-b889318c3149",
   "metadata": {},
   "outputs": [
    {
     "name": "stdout",
     "output_type": "stream",
     "text": [
      "Academic license - for non-commercial use only - expires 2021-12-28\n",
      "Using license file /Users/Nolias/gurobi.lic\n",
      "Creating Constraints:\n",
      "Creating Objective:\n",
      "Update Completed.\n",
      "Gurobi Optimizer version 9.1.2 build v9.1.2rc0 (mac64)\n",
      "Thread count: 4 physical cores, 8 logical processors, using up to 8 threads\n",
      "Optimize a model with 101000 rows, 50600 columns and 5301000 nonzeros\n",
      "Model fingerprint: 0x7bc7d426\n",
      "Variable types: 0 continuous, 50600 integer (50600 binary)\n",
      "Coefficient statistics:\n",
      "  Matrix range     [6e-06, 5e+00]\n",
      "  Objective range  [2e-02, 7e-02]\n",
      "  Bounds range     [1e+00, 1e+00]\n",
      "  RHS range        [1e+00, 3e+00]\n",
      "Presolve removed 2 rows and 35615 columns (presolve time = 5s) ...\n",
      "Presolve removed 73022 rows and 36693 columns (presolve time = 11s) ...\n",
      "Presolve removed 73092 rows and 36655 columns\n",
      "Presolve time: 11.52s\n",
      "Presolved: 27908 rows, 13945 columns, 411674 nonzeros\n",
      "Variable types: 0 continuous, 13945 integer (13945 binary)\n",
      "Found heuristic solution: objective 10.8075000\n",
      "Found heuristic solution: objective 21.5232800\n",
      "\n",
      "Deterministic concurrent LP optimizer: primal and dual simplex\n",
      "Showing first log only...\n",
      "\n",
      "\n",
      "Root simplex log...\n",
      "\n",
      "Iteration    Objective       Primal Inf.    Dual Inf.      Time\n",
      "       0    4.8798800e+00   7.800000e+01   1.560000e+08     12s\n",
      "Concurrent spin time: 0.00s\n",
      "\n",
      "Solved with dual simplex\n",
      "\n",
      "Root relaxation: objective 2.795798e+01, 2326 iterations, 0.65 seconds\n",
      "\n",
      "    Nodes    |    Current Node    |     Objective Bounds      |     Work\n",
      " Expl Unexpl |  Obj  Depth IntInf | Incumbent    BestBd   Gap | It/Node Time\n",
      "\n",
      "     0     0   27.95798    0  748   21.52328   27.95798  29.9%     -   25s\n",
      "H    0     0                      24.6428400   27.95798  13.5%     -   25s\n",
      "H    0     0                      25.7988000   27.95798  8.37%     -   26s\n",
      "H    0     0                      26.0371800   27.95798  7.38%     -   29s\n",
      "H    0     0                      26.0916800   27.95798  7.15%     -   29s\n",
      "H    0     0                      26.1016200   27.95798  7.11%     -   29s\n",
      "     0     0   27.42353    0 1028   26.10162   27.42353  5.06%     -   31s\n",
      "     0     0   27.42353    0  665   26.10162   27.42353  5.06%     -   33s\n",
      "H    0     0                      26.1193800   27.42353  4.99%     -   33s\n",
      "     0     0   27.27409    0  959   26.11938   27.27409  4.42%     -   36s\n",
      "H    0     0                      26.2019200   27.27409  4.09%     -   37s\n",
      "     0     0   26.46326    0  899   26.20192   26.46326  1.00%     -   37s\n",
      "H    0     0                      26.2445400   26.46326  0.83%     -   38s\n",
      "     0     0   26.28006    0 1018   26.24454   26.28006  0.14%     -   38s\n",
      "     0     0   26.24689    0  910   26.24454   26.24689  0.01%     -   38s\n",
      "\n",
      "Cutting planes:\n",
      "  Clique: 1415\n",
      "  Zero half: 2\n",
      "  RLT: 169\n",
      "\n",
      "Explored 1 nodes (13811 simplex iterations) in 38.76 seconds\n",
      "Thread count was 8 (of 8 available processors)\n",
      "\n",
      "Solution count 10: 26.2445 26.2019 26.1194 ... 10.8075\n",
      "\n",
      "Optimal solution found (tolerance 1.00e-04)\n",
      "Best objective 2.624454000000e+01, best bound 2.624689333332e+01, gap 0.0090%\n"
     ]
    }
   ],
   "source": [
    "'''Constructs Integer Optimization Relaxation Model.'''\n",
    "\n",
    "m = Model()\n",
    "\n",
    "# Decision Variables\n",
    "x = m.addVars( nSushis, vtype=GRB.BINARY )\n",
    "y = m.addVars( nCustomers, nSushis+1, vtype=GRB.BINARY )\n",
    "\n",
    "# Constraints\n",
    "print(\"Creating Constraints:\")\n",
    "for k in range(nCustomers):\n",
    "    # 1B: Each customer chooses one sushi option.\n",
    "    m.addConstr( sum(y[k,i] for i in range(nSushis+1)) == 1 )\n",
    "    \n",
    "    for i in range(nSushis):\n",
    "        # 1E: Sushi is chosen only from available sushis\n",
    "        m.addConstr( y[k,i] <= x[i] )\n",
    "        \n",
    "        # 1C: Utility >= utilities of any available sushis\n",
    "        m.addConstr( quicksum(sushi_ratings_mat[k, j] * y[k, j] for j in range(nSushis+1)) >= sushi_ratings_mat[k, i] * x[i] + sushi_ratings_mat[k, nSushis]*(1 - x[i]) )\n",
    "    \n",
    "    # 1D: Utility >= competitor sushi utility\n",
    "    m.addConstr( quicksum(sushi_ratings_mat[k, j] * y[k, j] for j in range(nSushis+1)) >= sushi_ratings_mat[k, nSushis] )\n",
    "\n",
    "# Objective Function\n",
    "print('Creating Objective:')\n",
    "m.setObjective( quicksum(revenues[i] * 1.0/nCustomers * y[k, i] for k in range(nCustomers) for i in range(nSushis)), GRB.MAXIMIZE )\n",
    "\n",
    "# Updates and Solves\n",
    "m.update()\n",
    "print('Update Completed.')\n",
    "m.optimize()"
   ]
  },
  {
   "cell_type": "code",
   "execution_count": 9,
   "id": "425f2d0a-2693-45c1-ad68-f758cf6b4d13",
   "metadata": {},
   "outputs": [
    {
     "name": "stdout",
     "output_type": "stream",
     "text": [
      "Gurobi Optimizer version 9.1.2 build v9.1.2rc0 (mac64)\n",
      "Thread count: 4 physical cores, 8 logical processors, using up to 8 threads\n",
      "Optimize a model with 101000 rows, 50600 columns and 5301000 nonzeros\n",
      "Model fingerprint: 0xb4d113d6\n",
      "Coefficient statistics:\n",
      "  Matrix range     [6e-06, 5e+00]\n",
      "  Objective range  [2e-02, 7e-02]\n",
      "  Bounds range     [1e+00, 1e+00]\n",
      "  RHS range        [1e+00, 3e+00]\n",
      "\n",
      "Concurrent LP optimizer: dual simplex and barrier\n",
      "Showing barrier log only...\n",
      "\n",
      "Presolve time: 1.93s\n",
      "Presolved: 101000 rows, 50600 columns, 5301000 nonzeros\n",
      "\n",
      "Ordering time: 3.91s\n",
      "\n",
      "Barrier performed 0 iterations in 8.88 seconds\n",
      "Barrier solve interrupted - model solved by another algorithm\n",
      "\n",
      "\n",
      "Solved with dual simplex\n",
      "Solved in 1134 iterations and 8.90 seconds\n",
      "Optimal objective  3.058751154e+01\n",
      "Relaxation bound:  30.58751153829859\n"
     ]
    }
   ],
   "source": [
    "'''Prints Results From Integer Optimization Relaxation Model.'''\n",
    "\n",
    "m_relaxed = m.relax()\n",
    "m_relaxed.optimize()\n",
    "relaxation_bound = m_relaxed.objval\n",
    "\n",
    "print('Relaxation bound: ', relaxation_bound)"
   ]
  },
  {
   "cell_type": "markdown",
   "id": "22f5627e-e835-4d97-b9c0-2f523c4fea0e",
   "metadata": {},
   "source": [
    "### Analysis"
   ]
  },
  {
   "cell_type": "markdown",
   "id": "2425c16b-e486-456c-a47d-3adc46a10db0",
   "metadata": {},
   "source": [
    "It is impossible for the expected per-customer revenue to exceed the relaxation revenue value of 30.59 dollars, given that the relaxation value yields the absolute optimal objective value while allowing for continuous values. In real life, we cannot assign continuous values in the sushi example. Therefore, when removing the 'continuous values' condition, the expected per-customer revenue of the optimal assortment is 26.24 dollars."
   ]
  },
  {
   "cell_type": "markdown",
   "id": "18b774a2-7153-4f01-83cd-1305317ec8a8",
   "metadata": {},
   "source": [
    "#### Optimal Set of Sushis the Restaurant Should Offer:"
   ]
  },
  {
   "cell_type": "code",
   "execution_count": 10,
   "id": "eff7804d-14ec-4d02-a333-acb22aa4f9c8",
   "metadata": {},
   "outputs": [
    {
     "name": "stdout",
     "output_type": "stream",
     "text": [
      "\n",
      "Optimal Revenue per Customer: $ 26.24\n",
      "\n"
     ]
    },
    {
     "data": {
      "text/html": [
       "<div>\n",
       "<style scoped>\n",
       "    .dataframe tbody tr th:only-of-type {\n",
       "        vertical-align: middle;\n",
       "    }\n",
       "\n",
       "    .dataframe tbody tr th {\n",
       "        vertical-align: top;\n",
       "    }\n",
       "\n",
       "    .dataframe thead th {\n",
       "        text-align: right;\n",
       "    }\n",
       "</style>\n",
       "<table border=\"1\" class=\"dataframe\">\n",
       "  <thead>\n",
       "    <tr style=\"text-align: right;\">\n",
       "      <th></th>\n",
       "      <th>description</th>\n",
       "    </tr>\n",
       "  </thead>\n",
       "  <tbody>\n",
       "    <tr>\n",
       "      <th>8</th>\n",
       "      <td>toro (fatty tuna)</td>\n",
       "    </tr>\n",
       "    <tr>\n",
       "      <th>14</th>\n",
       "      <td>awabi (abalone)</td>\n",
       "    </tr>\n",
       "    <tr>\n",
       "      <th>18</th>\n",
       "      <td>saba (mackerel)</td>\n",
       "    </tr>\n",
       "    <tr>\n",
       "      <th>47</th>\n",
       "      <td>tarabagani (king crab)</td>\n",
       "    </tr>\n",
       "    <tr>\n",
       "      <th>72</th>\n",
       "      <td>mentaiko_maki (chili cod roe roll)</td>\n",
       "    </tr>\n",
       "    <tr>\n",
       "      <th>75</th>\n",
       "      <td>ika_nattou (squid &amp; fermented bean)</td>\n",
       "    </tr>\n",
       "    <tr>\n",
       "      <th>87</th>\n",
       "      <td>tobiuo (flying fish)</td>\n",
       "    </tr>\n",
       "  </tbody>\n",
       "</table>\n",
       "</div>"
      ],
      "text/plain": [
       "                            description\n",
       "8                     toro (fatty tuna)\n",
       "14                      awabi (abalone)\n",
       "18                      saba (mackerel)\n",
       "47               tarabagani (king crab)\n",
       "72   mentaiko_maki (chili cod roe roll)\n",
       "75  ika_nattou (squid & fermented bean)\n",
       "87                 tobiuo (flying fish)"
      ]
     },
     "execution_count": 10,
     "metadata": {},
     "output_type": "execute_result"
    }
   ],
   "source": [
    "# Revenue from optimal set\n",
    "optimal_revenue = m.objval\n",
    "print(f'\\nOptimal Revenue per Customer: ${optimal_revenue: .2f}\\n')\n",
    "\n",
    "# Optimal sushi names\n",
    "S_optimal = [i for i in range(nSushis) if x[i].x > 0.5]\n",
    "sushi_descriptions.iloc[S_optimal].drop(['name'], axis=1)"
   ]
  }
 ],
 "metadata": {
  "kernelspec": {
   "display_name": "Python 3 (ipykernel)",
   "language": "python",
   "name": "python3"
  },
  "language_info": {
   "codemirror_mode": {
    "name": "ipython",
    "version": 3
   },
   "file_extension": ".py",
   "mimetype": "text/x-python",
   "name": "python",
   "nbconvert_exporter": "python",
   "pygments_lexer": "ipython3",
   "version": "3.9.5"
  }
 },
 "nbformat": 4,
 "nbformat_minor": 5
}
