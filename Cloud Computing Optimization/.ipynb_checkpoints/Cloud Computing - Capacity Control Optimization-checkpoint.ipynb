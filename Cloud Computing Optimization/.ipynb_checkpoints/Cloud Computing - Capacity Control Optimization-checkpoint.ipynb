{
 "cells": [
  {
   "cell_type": "markdown",
   "id": "93f4e9e2-67a6-4af2-b486-dbe951fb0b9d",
   "metadata": {},
   "source": [
    "# Cloud Computing: Capacity Control Optimization (Timothy Manolias)\n",
    "\n",
    "### The following program determines how Cirrus, a cloud computing provider, should allocate its computational capacity to users in order to maximize revenue."
   ]
  },
  {
   "cell_type": "code",
   "execution_count": 1,
   "id": "6e60ef1b-0db8-4424-be8a-1bb0b0d4bfac",
   "metadata": {
    "jupyter": {
     "source_hidden": true
    },
    "tags": []
   },
   "outputs": [
    {
     "data": {
      "text/html": [
       "<img src=\"Images/Question.png\" width=\"700\"/>"
      ],
      "text/plain": [
       "<IPython.core.display.Image object>"
      ]
     },
     "execution_count": 1,
     "metadata": {},
     "output_type": "execute_result"
    }
   ],
   "source": [
    "from IPython.display import Image\n",
    "from IPython.core.display import HTML\n",
    "\n",
    "Image(url='Images/Question.png', width=700)"
   ]
  },
  {
   "cell_type": "markdown",
   "id": "da296765-112b-42ed-bf33-2543e8e8f912",
   "metadata": {},
   "source": [
    "## Solution"
   ]
  },
  {
   "cell_type": "markdown",
   "id": "eebc57e4-a8ae-4c20-8a18-990c0e8ccdc6",
   "metadata": {},
   "source": [
    "### Part 1: Capacity Control Formulation"
   ]
  },
  {
   "cell_type": "code",
   "execution_count": 2,
   "id": "858ffbcb-a4e9-4307-8a99-8cb374993eac",
   "metadata": {
    "jupyter": {
     "source_hidden": true
    },
    "tags": []
   },
   "outputs": [
    {
     "data": {
      "text/html": [
       "<img src=\"Images/Linear_Program_Formulation.png\" width=\"500\"/>"
      ],
      "text/plain": [
       "<IPython.core.display.Image object>"
      ]
     },
     "execution_count": 2,
     "metadata": {},
     "output_type": "execute_result"
    }
   ],
   "source": [
    "Image(url='Images/Linear_Program_Formulation.png', width=500)"
   ]
  },
  {
   "cell_type": "markdown",
   "id": "c192d294-8e03-430b-9ff4-6b6712ca4dc3",
   "metadata": {},
   "source": [
    "### Part 2: Solving the Capacity Control Problem"
   ]
  },
  {
   "cell_type": "code",
   "execution_count": 4,
   "id": "d9965bc2-d0f2-4204-9796-99164ceb225f",
   "metadata": {},
   "outputs": [],
   "source": [
    "'''Implements Capacity Control Formulation Listed Above Using Gurobi Optimizer.'''\n",
    "\n",
    "from gurobipy import *\n",
    "\n",
    "cpu = [16, 32, 64, 8, 16, 32, 16, 32, 64]\n",
    "memory = [8, 16, 32, 32, 64, 128, 16, 32, 64]\n",
    "gpu = [1, 1, 1, 1, 1, 1, 2, 6, 8]\n",
    "price = [7, 12, 24, 22, 44, 88, 30, 90, 120]\n",
    "rates = [5.0, 5.0, 1.8, 3.0, 2.6, 1.0, 0.8, 0.4, 0.3]\n",
    "T = 5\n",
    "\n",
    "# Creates the model\n",
    "m = Model()\n",
    "\n",
    "# Suppresses output\n",
    "m.Params.outputflag = 0\n",
    "\n",
    "# Adds the decision variables\n",
    "x = m.addVars(9)\n",
    "\n",
    "# Creates the constraints\n",
    "cpu_constr    = m.addConstr(sum(x[i]*cpu[i] for i in range(9)) <= 512)\n",
    "memory_constr = m.addConstr(sum(x[i]*memory[i] for i in range(9)) <= 1024)\n",
    "gpu_constr    = m.addConstr(sum(x[i]*gpu[i] for i in range(9)) <= 64)\n",
    "forecast_constr = m.addConstrs((x[i] <= T*rates[i] for i in range(9)))\n",
    "non_negativity_constr = m.addConstrs((x[i] >= 0 for i in range(9)))\n",
    "\n",
    "# Creates the objective function [maximize revenue]\n",
    "m.setObjective(sum(x[i]*price[i] for i in range(9)), GRB.MAXIMIZE)\n",
    "\n",
    "m.update()\n",
    "m.optimize()"
   ]
  },
  {
   "cell_type": "code",
   "execution_count": 5,
   "id": "6ebb2932-95f4-435b-9940-cba916f37fa7",
   "metadata": {},
   "outputs": [
    {
     "name": "stdout",
     "output_type": "stream",
     "text": [
      "Solved to Optimality!\n",
      "\n",
      "Optimal Objective Value: $1,039.43\n"
     ]
    }
   ],
   "source": [
    "'''Extracts Solution Status and Optimal Objective Value.'''\n",
    "\n",
    "# Solution status\n",
    "status = m.status\n",
    "if status == GRB.OPTIMAL:\n",
    "    print('Solved to Optimality!')\n",
    "\n",
    "# Objective value\n",
    "optimal_obj = m.objval\n",
    "print(f'\\nOptimal Objective Value: ${optimal_obj:,.2f}')"
   ]
  },
  {
   "cell_type": "markdown",
   "id": "5f756c37-c923-4348-adb3-8d7f5590a45c",
   "metadata": {},
   "source": [
    "### Part 3: Simulating Cirrus' Current Suboptimal Policy"
   ]
  },
  {
   "cell_type": "code",
   "execution_count": 6,
   "id": "a22f2061-c682-4744-903d-edde15adab91",
   "metadata": {
    "jupyter": {
     "source_hidden": true
    },
    "tags": []
   },
   "outputs": [
    {
     "data": {
      "text/html": [
       "<img src=\"Images/Current Policy.png\" width=\"700\"/>"
      ],
      "text/plain": [
       "<IPython.core.display.Image object>"
      ]
     },
     "execution_count": 6,
     "metadata": {},
     "output_type": "execute_result"
    }
   ],
   "source": [
    "Image(url='Images/Current Policy.png', width=700)"
   ]
  },
  {
   "cell_type": "code",
   "execution_count": 7,
   "id": "9bbf9c29-eaab-4a68-9b62-1e5ab4c6ab13",
   "metadata": {},
   "outputs": [],
   "source": [
    "'''Generates Random User Arrival Sequence for Cloud Computing Service.'''\n",
    "\n",
    "import numpy as np\n",
    "import random\n",
    "\n",
    "def generateArrivalSequences(nSimulations, rates, T):\n",
    "    \n",
    "    total_rate = sum(rates)\n",
    "    nTypes = len(rates)\n",
    "\n",
    "    arrival_sequences_times = []\n",
    "    arrival_sequences_types = []\n",
    "\n",
    "    for s in range(nSimulations):\n",
    "        single_arrival_sequence_time = []\n",
    "        single_arrival_sequence_type = []\n",
    "        t = 0;\n",
    "        while (t < T):\n",
    "            single_time = np.random.exponential(1.0/total_rate)\n",
    "            single_type = np.random.choice(nTypes, p=[rate/total_rate for rate in rates])\n",
    "\n",
    "            t += single_time;\n",
    "\n",
    "            if (t < T):\n",
    "                single_arrival_sequence_time.append(t)\n",
    "                single_arrival_sequence_type.append(single_type)\n",
    "            else:\n",
    "                break\n",
    "\n",
    "        arrival_sequences_times.append(np.array(single_arrival_sequence_time))\n",
    "        arrival_sequences_types.append(np.array(single_arrival_sequence_type))\n",
    "    \n",
    "    return arrival_sequences_times, arrival_sequences_types"
   ]
  },
  {
   "cell_type": "markdown",
   "id": "f6662e41-c2e3-40d4-b428-2f7155b6a450",
   "metadata": {},
   "source": [
    "**Average Revenue for Current Policy Over 100 Simulated Sequences:**"
   ]
  },
  {
   "cell_type": "code",
   "execution_count": 8,
   "id": "2aa7cf04-e7ea-45ab-88be-c29add085f84",
   "metadata": {},
   "outputs": [
    {
     "name": "stdout",
     "output_type": "stream",
     "text": [
      "Cirrus' Average Revenue for Current Policy: $528.28\n"
     ]
    }
   ],
   "source": [
    "'''Implements Cirrus' \"First-Come First-Serve\" Policy.'''\n",
    "\n",
    "np.random.seed(10)\n",
    "\n",
    "nSimulations = 100\n",
    "nResources = 3\n",
    "B = np.array([512, 1024, 64])\n",
    "\n",
    "arrival_sequences_times, arrival_sequences_types = generateArrivalSequences(nSimulations, rates, T)\n",
    "\n",
    "results_myopic_revenue = np.zeros(nSimulations)\n",
    "results_myopic_remaining_capacity = np.zeros((nSimulations, nResources))\n",
    "\n",
    "for s in range(nSimulations):\n",
    "    b = B.copy();\n",
    "    \n",
    "    single_revenue = 0.0; # Contains the revenue of this simulation\n",
    "    nArrivals = len(arrival_sequences_times[s])\n",
    "\n",
    "    # Iterates through arrivals in sequence\n",
    "    for j in range(nArrivals):\n",
    "        if 0 in b:\n",
    "            break\n",
    "        \n",
    "        # Obtains the time of the arrival and its type (i)\n",
    "        arrival_time = arrival_sequences_times[s][j]\n",
    "        i = arrival_sequences_types[s][j]\n",
    "\n",
    "        # Checks if there is sufficient capacity for the request\n",
    "        request = [cpu[i], memory[i], gpu[i]]\n",
    "        if (request[0] <= b[0] and request[1] <= b[1] and request[2] <= b[2]):\n",
    "            # Accrues revenue and removes the capacity\n",
    "            single_revenue += price[i]\n",
    "            for x in range(3):\n",
    "                b[x] -= request[x]            \n",
    "\n",
    "    results_myopic_revenue[s] = single_revenue\n",
    "    results_myopic_remaining_capacity[s] = b\n",
    "\n",
    "# Average revenue\n",
    "mean_myopic_revenue = results_myopic_revenue.mean()\n",
    "print(f\"Cirrus' Average Revenue for Current Policy: ${mean_myopic_revenue:,.2f}\")"
   ]
  },
  {
   "cell_type": "markdown",
   "id": "14eb3645-c0db-42d5-abfc-7081d591c372",
   "metadata": {},
   "source": [
    "### Part 4: Bid-Price Control Policy"
   ]
  },
  {
   "cell_type": "code",
   "execution_count": 9,
   "id": "0906a761-1c83-4ff7-a54a-465f56991794",
   "metadata": {},
   "outputs": [],
   "source": [
    "'''Implements Bid-Price Control (BPC) Policy.'''\n",
    "\n",
    "def bpc(b, t, k):\n",
    "    constraints = [cpu_constr, memory_constr, gpu_constr]\n",
    "    for r in range(nResources):\n",
    "        constraints[r].RHS = b[r]\n",
    "\n",
    "    for i in range(9):\n",
    "        forecast_constr[i].RHS = (T-t) * rates[i]\n",
    "\n",
    "    # Re-solves the model\n",
    "    m.update()\n",
    "    m.optimize()\n",
    "\n",
    "    # Obtains dual values and shadow prices\n",
    "    dual_val = [cpu_constr.pi*cpu[k], memory_constr.pi*memory[k], gpu_constr.pi*gpu[k]]\n",
    "\n",
    "    return dual_val"
   ]
  },
  {
   "cell_type": "code",
   "execution_count": 10,
   "id": "d47b74f6-ba57-47c1-89f1-696ecf0733c2",
   "metadata": {},
   "outputs": [
    {
     "name": "stdout",
     "output_type": "stream",
     "text": [
      "Average Revenue for Bid-Price Control Policy: $925.59\n"
     ]
    }
   ],
   "source": [
    "'''Simulates Average Revenue for BPC Policy.'''\n",
    "\n",
    "results_revenue = np.zeros(nSimulations)\n",
    "results_remaining_capacity = np.zeros((nSimulations, nResources))\n",
    "\n",
    "for s in range(nSimulations):\n",
    "    \n",
    "    b = B.copy() # Initializes the current capacity\n",
    "    single_revenue = 0.0 # Initialize the revenue garnered in this simulation\n",
    "    nArrivals = len(arrival_sequences_times[s])\n",
    "    \n",
    "    for j in range(nArrivals):\n",
    "        \n",
    "        # Takes the next arrival time and type from the sequence\n",
    "        arrival_time = arrival_sequences_times[s][j]\n",
    "        i = arrival_sequences_types[s][j]\n",
    "        \n",
    "        # Checks if there is enough capacity\n",
    "        request = [cpu[i], memory[i], gpu[i]]\n",
    "        if (request[0] <= b[0] and request[1] <= b[1] and request[2] < b[2]):\n",
    "            # Re-solves the LO and obtains the dual values\n",
    "            dual_val = bpc(b, arrival_time, i)\n",
    "\n",
    "            # Checks if the revenue is at least the sum of the bid prices:\n",
    "            if sum(dual_val) <= price[i]:\n",
    "                # Accrues revenue and removes the capacity\n",
    "                single_revenue += price[i]\n",
    "                for x in range(3):\n",
    "                    b[x] -= request[x]\n",
    "\n",
    "    results_revenue[s] = single_revenue\n",
    "    results_remaining_capacity[s] = b\n",
    "\n",
    "mean_revenue = results_revenue.mean()\n",
    "print(f\"Average Revenue for Bid-Price Control Policy: ${mean_revenue:,.2f}\")"
   ]
  }
 ],
 "metadata": {
  "kernelspec": {
   "display_name": "Python 3 (ipykernel)",
   "language": "python",
   "name": "python3"
  },
  "language_info": {
   "codemirror_mode": {
    "name": "ipython",
    "version": 3
   },
   "file_extension": ".py",
   "mimetype": "text/x-python",
   "name": "python",
   "nbconvert_exporter": "python",
   "pygments_lexer": "ipython3",
   "version": "3.9.5"
  }
 },
 "nbformat": 4,
 "nbformat_minor": 5
}
